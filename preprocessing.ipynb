{
 "cells": [
  {
   "cell_type": "markdown",
   "metadata": {},
   "source": [
    "# Detecção de Fake News - Preprocessamento"
   ]
  },
  {
   "cell_type": "markdown",
   "metadata": {},
   "source": [
    "Base de dados usada no projeto: [ISOT Fake News Dataset](https://www.kaggle.com/datasets/emineyetm/fake-news-detection-datasets/data)"
   ]
  },
  {
   "cell_type": "markdown",
   "metadata": {},
   "source": [
    "BERT é bem mais robusto do que modelos clássicos de tokenização (como TF-IDF e Bag of Words). O embedding utilizado combina informações semânticas e posicionais, além disso, ele possui um mecanismo de atenção capaz de codificar o contexto de cada token na frase.\n",
    "\n",
    "Dessa forma, a fase de limpeza do texto não precisa ser muito severa ao realizar o fine-tunning do BERT. Coisas que devem ser evitadas:\n",
    "\n",
    "- **Não remover pontuação**: BERT foi treinado para entender pontuação como parte do significado.\n",
    "- **Não remover stopwords**: Palavras como *is*, *the*, *a* são importantes para o contexto.\n",
    "- **Não aplicar stemming ou lemmatização**: BERT entende as palavras em suas formas originais.\n",
    "- **Evite limpezas agressivas**: O tokenizer do BERT já trata subpalavras, símbolos e padrões incomuns.\n"
   ]
  },
  {
   "cell_type": "markdown",
   "metadata": {},
   "source": [
    "## Importa Bibliotecas"
   ]
  },
  {
   "cell_type": "code",
   "execution_count": 1,
   "metadata": {
    "execution": {
     "iopub.execute_input": "2025-07-20T04:52:47.148344Z",
     "iopub.status.busy": "2025-07-20T04:52:47.148187Z",
     "iopub.status.idle": "2025-07-20T04:52:51.067287Z",
     "shell.execute_reply": "2025-07-20T04:52:51.066415Z",
     "shell.execute_reply.started": "2025-07-20T04:52:47.148329Z"
    },
    "trusted": true
   },
   "outputs": [
    {
     "name": "stdout",
     "output_type": "stream",
     "text": [
      "Requirement already satisfied: pandas in /usr/local/lib/python3.11/dist-packages (2.2.3)\n",
      "Requirement already satisfied: matplotlib in /usr/local/lib/python3.11/dist-packages (3.7.2)\n",
      "Requirement already satisfied: seaborn in /usr/local/lib/python3.11/dist-packages (0.12.2)\n",
      "Requirement already satisfied: nltk in /usr/local/lib/python3.11/dist-packages (3.9.1)\n",
      "Requirement already satisfied: numpy>=1.23.2 in /usr/local/lib/python3.11/dist-packages (from pandas) (1.26.4)\n",
      "Requirement already satisfied: python-dateutil>=2.8.2 in /usr/local/lib/python3.11/dist-packages (from pandas) (2.9.0.post0)\n",
      "Requirement already satisfied: pytz>=2020.1 in /usr/local/lib/python3.11/dist-packages (from pandas) (2025.2)\n",
      "Requirement already satisfied: tzdata>=2022.7 in /usr/local/lib/python3.11/dist-packages (from pandas) (2025.2)\n",
      "Requirement already satisfied: contourpy>=1.0.1 in /usr/local/lib/python3.11/dist-packages (from matplotlib) (1.3.2)\n",
      "Requirement already satisfied: cycler>=0.10 in /usr/local/lib/python3.11/dist-packages (from matplotlib) (0.12.1)\n",
      "Requirement already satisfied: fonttools>=4.22.0 in /usr/local/lib/python3.11/dist-packages (from matplotlib) (4.58.4)\n",
      "Requirement already satisfied: kiwisolver>=1.0.1 in /usr/local/lib/python3.11/dist-packages (from matplotlib) (1.4.8)\n",
      "Requirement already satisfied: packaging>=20.0 in /usr/local/lib/python3.11/dist-packages (from matplotlib) (25.0)\n",
      "Requirement already satisfied: pillow>=6.2.0 in /usr/local/lib/python3.11/dist-packages (from matplotlib) (11.2.1)\n",
      "Requirement already satisfied: pyparsing<3.1,>=2.3.1 in /usr/local/lib/python3.11/dist-packages (from matplotlib) (3.0.9)\n",
      "Requirement already satisfied: click in /usr/local/lib/python3.11/dist-packages (from nltk) (8.2.1)\n",
      "Requirement already satisfied: joblib in /usr/local/lib/python3.11/dist-packages (from nltk) (1.5.1)\n",
      "Requirement already satisfied: regex>=2021.8.3 in /usr/local/lib/python3.11/dist-packages (from nltk) (2024.11.6)\n",
      "Requirement already satisfied: tqdm in /usr/local/lib/python3.11/dist-packages (from nltk) (4.67.1)\n",
      "Requirement already satisfied: mkl_fft in /usr/local/lib/python3.11/dist-packages (from numpy>=1.23.2->pandas) (1.3.8)\n",
      "Requirement already satisfied: mkl_random in /usr/local/lib/python3.11/dist-packages (from numpy>=1.23.2->pandas) (1.2.4)\n",
      "Requirement already satisfied: mkl_umath in /usr/local/lib/python3.11/dist-packages (from numpy>=1.23.2->pandas) (0.1.1)\n",
      "Requirement already satisfied: mkl in /usr/local/lib/python3.11/dist-packages (from numpy>=1.23.2->pandas) (2025.2.0)\n",
      "Requirement already satisfied: tbb4py in /usr/local/lib/python3.11/dist-packages (from numpy>=1.23.2->pandas) (2022.2.0)\n",
      "Requirement already satisfied: mkl-service in /usr/local/lib/python3.11/dist-packages (from numpy>=1.23.2->pandas) (2.4.1)\n",
      "Requirement already satisfied: six>=1.5 in /usr/local/lib/python3.11/dist-packages (from python-dateutil>=2.8.2->pandas) (1.17.0)\n",
      "Requirement already satisfied: intel-openmp<2026,>=2024 in /usr/local/lib/python3.11/dist-packages (from mkl->numpy>=1.23.2->pandas) (2024.2.0)\n",
      "Requirement already satisfied: tbb==2022.* in /usr/local/lib/python3.11/dist-packages (from mkl->numpy>=1.23.2->pandas) (2022.2.0)\n",
      "Requirement already satisfied: tcmlib==1.* in /usr/local/lib/python3.11/dist-packages (from tbb==2022.*->mkl->numpy>=1.23.2->pandas) (1.4.0)\n",
      "Requirement already satisfied: intel-cmplr-lib-rt in /usr/local/lib/python3.11/dist-packages (from mkl_umath->numpy>=1.23.2->pandas) (2024.2.0)\n",
      "Requirement already satisfied: intel-cmplr-lib-ur==2024.2.0 in /usr/local/lib/python3.11/dist-packages (from intel-openmp<2026,>=2024->mkl->numpy>=1.23.2->pandas) (2024.2.0)\n"
     ]
    }
   ],
   "source": [
    "!pip install pandas matplotlib seaborn nltk"
   ]
  },
  {
   "cell_type": "code",
   "execution_count": 65,
   "metadata": {
    "execution": {
     "iopub.execute_input": "2025-07-20T04:56:13.819101Z",
     "iopub.status.busy": "2025-07-20T04:56:13.818468Z",
     "iopub.status.idle": "2025-07-20T04:56:13.824308Z",
     "shell.execute_reply": "2025-07-20T04:56:13.823564Z",
     "shell.execute_reply.started": "2025-07-20T04:56:13.819073Z"
    },
    "trusted": true
   },
   "outputs": [],
   "source": [
    "import pandas as pd\n",
    "import re # regular expression\n",
    "import matplotlib.pyplot as plt\n",
    "import seaborn as sns\n",
    "from collections import Counter\n",
    "from scipy.special import softmax\n",
    "import numpy as np\n",
    "\n",
    "from nltk.corpus import stopwords\n",
    "import nltk\n",
    "import string\n",
    "\n",
    "from sklearn.model_selection import train_test_split\n",
    "import torch\n",
    "import torch.nn as nn\n",
    "import torch.optim as optim"
   ]
  },
  {
   "cell_type": "code",
   "execution_count": 3,
   "metadata": {
    "execution": {
     "iopub.execute_input": "2025-07-20T04:52:59.167733Z",
     "iopub.status.busy": "2025-07-20T04:52:59.167429Z",
     "iopub.status.idle": "2025-07-20T04:53:01.561420Z",
     "shell.execute_reply": "2025-07-20T04:53:01.560763Z",
     "shell.execute_reply.started": "2025-07-20T04:52:59.167715Z"
    },
    "trusted": true
   },
   "outputs": [],
   "source": [
    "df_true = pd.read_csv('/kaggle/input/isot-dataset/True.csv')\n",
    "df_fake = pd.read_csv('/kaggle/input/isot-dataset/Fake.csv')"
   ]
  },
  {
   "cell_type": "code",
   "execution_count": 4,
   "metadata": {
    "execution": {
     "iopub.execute_input": "2025-07-20T04:53:01.562425Z",
     "iopub.status.busy": "2025-07-20T04:53:01.562180Z",
     "iopub.status.idle": "2025-07-20T04:53:01.627998Z",
     "shell.execute_reply": "2025-07-20T04:53:01.627244Z",
     "shell.execute_reply.started": "2025-07-20T04:53:01.562401Z"
    },
    "trusted": true
   },
   "outputs": [
    {
     "name": "stderr",
     "output_type": "stream",
     "text": [
      "[nltk_data] Downloading package stopwords to /usr/share/nltk_data...\n",
      "[nltk_data]   Package stopwords is already up-to-date!\n"
     ]
    }
   ],
   "source": [
    "nltk.download('stopwords')\n",
    "stop_words = set(stopwords.words('english'))"
   ]
  },
  {
   "cell_type": "markdown",
   "metadata": {},
   "source": [
    "## EDA e Limpeza"
   ]
  },
  {
   "cell_type": "markdown",
   "metadata": {},
   "source": [
    "### Visão Geral: Notícias Reais"
   ]
  },
  {
   "cell_type": "code",
   "execution_count": 5,
   "metadata": {
    "execution": {
     "iopub.execute_input": "2025-07-20T04:53:01.628987Z",
     "iopub.status.busy": "2025-07-20T04:53:01.628762Z",
     "iopub.status.idle": "2025-07-20T04:53:01.633059Z",
     "shell.execute_reply": "2025-07-20T04:53:01.632321Z",
     "shell.execute_reply.started": "2025-07-20T04:53:01.628962Z"
    },
    "trusted": true
   },
   "outputs": [],
   "source": [
    "def count_missing_text(df):\n",
    "    count_missing = df[\n",
    "        (df['text'].isna()) | (df['text'].str.strip() == '') |\n",
    "        (df['title'].isna()) | (df['title'].str.strip() == '')\n",
    "    ]\n",
    "\n",
    "    print(len(count_missing))"
   ]
  },
  {
   "cell_type": "code",
   "execution_count": 6,
   "metadata": {
    "execution": {
     "iopub.execute_input": "2025-07-20T04:53:01.634043Z",
     "iopub.status.busy": "2025-07-20T04:53:01.633842Z",
     "iopub.status.idle": "2025-07-20T04:53:01.672393Z",
     "shell.execute_reply": "2025-07-20T04:53:01.671692Z",
     "shell.execute_reply.started": "2025-07-20T04:53:01.634028Z"
    },
    "trusted": true
   },
   "outputs": [
    {
     "name": "stdout",
     "output_type": "stream",
     "text": [
      "<class 'pandas.core.frame.DataFrame'>\n",
      "RangeIndex: 21417 entries, 0 to 21416\n",
      "Data columns (total 4 columns):\n",
      " #   Column   Non-Null Count  Dtype \n",
      "---  ------   --------------  ----- \n",
      " 0   title    21417 non-null  object\n",
      " 1   text     21417 non-null  object\n",
      " 2   subject  21417 non-null  object\n",
      " 3   date     21417 non-null  object\n",
      "dtypes: object(4)\n",
      "memory usage: 669.4+ KB\n"
     ]
    }
   ],
   "source": [
    "df_true.info()"
   ]
  },
  {
   "cell_type": "code",
   "execution_count": 7,
   "metadata": {
    "execution": {
     "iopub.execute_input": "2025-07-20T04:53:01.674747Z",
     "iopub.status.busy": "2025-07-20T04:53:01.674555Z",
     "iopub.status.idle": "2025-07-20T04:53:01.700597Z",
     "shell.execute_reply": "2025-07-20T04:53:01.699930Z",
     "shell.execute_reply.started": "2025-07-20T04:53:01.674732Z"
    },
    "trusted": true
   },
   "outputs": [
    {
     "data": {
      "text/html": [
       "<div>\n",
       "<style scoped>\n",
       "    .dataframe tbody tr th:only-of-type {\n",
       "        vertical-align: middle;\n",
       "    }\n",
       "\n",
       "    .dataframe tbody tr th {\n",
       "        vertical-align: top;\n",
       "    }\n",
       "\n",
       "    .dataframe thead th {\n",
       "        text-align: right;\n",
       "    }\n",
       "</style>\n",
       "<table border=\"1\" class=\"dataframe\">\n",
       "  <thead>\n",
       "    <tr style=\"text-align: right;\">\n",
       "      <th></th>\n",
       "      <th>title</th>\n",
       "      <th>text</th>\n",
       "      <th>subject</th>\n",
       "      <th>date</th>\n",
       "    </tr>\n",
       "  </thead>\n",
       "  <tbody>\n",
       "    <tr>\n",
       "      <th>0</th>\n",
       "      <td>As U.S. budget fight looms, Republicans flip t...</td>\n",
       "      <td>WASHINGTON (Reuters) - The head of a conservat...</td>\n",
       "      <td>politicsNews</td>\n",
       "      <td>December 31, 2017</td>\n",
       "    </tr>\n",
       "    <tr>\n",
       "      <th>1</th>\n",
       "      <td>U.S. military to accept transgender recruits o...</td>\n",
       "      <td>WASHINGTON (Reuters) - Transgender people will...</td>\n",
       "      <td>politicsNews</td>\n",
       "      <td>December 29, 2017</td>\n",
       "    </tr>\n",
       "    <tr>\n",
       "      <th>2</th>\n",
       "      <td>Senior U.S. Republican senator: 'Let Mr. Muell...</td>\n",
       "      <td>WASHINGTON (Reuters) - The special counsel inv...</td>\n",
       "      <td>politicsNews</td>\n",
       "      <td>December 31, 2017</td>\n",
       "    </tr>\n",
       "    <tr>\n",
       "      <th>3</th>\n",
       "      <td>FBI Russia probe helped by Australian diplomat...</td>\n",
       "      <td>WASHINGTON (Reuters) - Trump campaign adviser ...</td>\n",
       "      <td>politicsNews</td>\n",
       "      <td>December 30, 2017</td>\n",
       "    </tr>\n",
       "    <tr>\n",
       "      <th>4</th>\n",
       "      <td>Trump wants Postal Service to charge 'much mor...</td>\n",
       "      <td>SEATTLE/WASHINGTON (Reuters) - President Donal...</td>\n",
       "      <td>politicsNews</td>\n",
       "      <td>December 29, 2017</td>\n",
       "    </tr>\n",
       "  </tbody>\n",
       "</table>\n",
       "</div>"
      ],
      "text/plain": [
       "                                               title  \\\n",
       "0  As U.S. budget fight looms, Republicans flip t...   \n",
       "1  U.S. military to accept transgender recruits o...   \n",
       "2  Senior U.S. Republican senator: 'Let Mr. Muell...   \n",
       "3  FBI Russia probe helped by Australian diplomat...   \n",
       "4  Trump wants Postal Service to charge 'much mor...   \n",
       "\n",
       "                                                text       subject  \\\n",
       "0  WASHINGTON (Reuters) - The head of a conservat...  politicsNews   \n",
       "1  WASHINGTON (Reuters) - Transgender people will...  politicsNews   \n",
       "2  WASHINGTON (Reuters) - The special counsel inv...  politicsNews   \n",
       "3  WASHINGTON (Reuters) - Trump campaign adviser ...  politicsNews   \n",
       "4  SEATTLE/WASHINGTON (Reuters) - President Donal...  politicsNews   \n",
       "\n",
       "                 date  \n",
       "0  December 31, 2017   \n",
       "1  December 29, 2017   \n",
       "2  December 31, 2017   \n",
       "3  December 30, 2017   \n",
       "4  December 29, 2017   "
      ]
     },
     "execution_count": 7,
     "metadata": {},
     "output_type": "execute_result"
    }
   ],
   "source": [
    "df_true.head()"
   ]
  },
  {
   "cell_type": "code",
   "execution_count": 8,
   "metadata": {
    "execution": {
     "iopub.execute_input": "2025-07-20T04:53:01.701603Z",
     "iopub.status.busy": "2025-07-20T04:53:01.701343Z",
     "iopub.status.idle": "2025-07-20T04:53:01.867239Z",
     "shell.execute_reply": "2025-07-20T04:53:01.866648Z",
     "shell.execute_reply.started": "2025-07-20T04:53:01.701578Z"
    },
    "trusted": true
   },
   "outputs": [
    {
     "name": "stdout",
     "output_type": "stream",
     "text": [
      "Valores duplicados em df_true: 206\n"
     ]
    }
   ],
   "source": [
    "duplicated =  df_true.duplicated().sum()\n",
    "print(f\"Valores duplicados em df_true: {duplicated}\")"
   ]
  },
  {
   "cell_type": "code",
   "execution_count": 9,
   "metadata": {
    "execution": {
     "iopub.execute_input": "2025-07-20T04:53:01.868135Z",
     "iopub.status.busy": "2025-07-20T04:53:01.867911Z",
     "iopub.status.idle": "2025-07-20T04:53:01.961024Z",
     "shell.execute_reply": "2025-07-20T04:53:01.960412Z",
     "shell.execute_reply.started": "2025-07-20T04:53:01.868118Z"
    },
    "trusted": true
   },
   "outputs": [
    {
     "name": "stdout",
     "output_type": "stream",
     "text": [
      "1\n"
     ]
    }
   ],
   "source": [
    "count_missing_text(df_true)"
   ]
  },
  {
   "cell_type": "code",
   "execution_count": 10,
   "metadata": {
    "execution": {
     "iopub.execute_input": "2025-07-20T04:53:01.962012Z",
     "iopub.status.busy": "2025-07-20T04:53:01.961768Z",
     "iopub.status.idle": "2025-07-20T04:53:01.968871Z",
     "shell.execute_reply": "2025-07-20T04:53:01.968278Z",
     "shell.execute_reply.started": "2025-07-20T04:53:01.961985Z"
    },
    "trusted": true
   },
   "outputs": [
    {
     "data": {
      "text/plain": [
       "subject\n",
       "politicsNews    11272\n",
       "worldnews       10145\n",
       "Name: count, dtype: int64"
      ]
     },
     "execution_count": 10,
     "metadata": {},
     "output_type": "execute_result"
    }
   ],
   "source": [
    "df_true['subject'].value_counts()"
   ]
  },
  {
   "cell_type": "markdown",
   "metadata": {},
   "source": [
    "### Visão Geral: Notícias Falsas"
   ]
  },
  {
   "cell_type": "code",
   "execution_count": 11,
   "metadata": {
    "execution": {
     "iopub.execute_input": "2025-07-20T04:53:01.969841Z",
     "iopub.status.busy": "2025-07-20T04:53:01.969547Z",
     "iopub.status.idle": "2025-07-20T04:53:01.994237Z",
     "shell.execute_reply": "2025-07-20T04:53:01.993658Z",
     "shell.execute_reply.started": "2025-07-20T04:53:01.969817Z"
    },
    "trusted": true
   },
   "outputs": [
    {
     "name": "stdout",
     "output_type": "stream",
     "text": [
      "<class 'pandas.core.frame.DataFrame'>\n",
      "RangeIndex: 23481 entries, 0 to 23480\n",
      "Data columns (total 4 columns):\n",
      " #   Column   Non-Null Count  Dtype \n",
      "---  ------   --------------  ----- \n",
      " 0   title    23481 non-null  object\n",
      " 1   text     23481 non-null  object\n",
      " 2   subject  23481 non-null  object\n",
      " 3   date     23481 non-null  object\n",
      "dtypes: object(4)\n",
      "memory usage: 733.9+ KB\n"
     ]
    }
   ],
   "source": [
    "df_fake.info()"
   ]
  },
  {
   "cell_type": "code",
   "execution_count": 12,
   "metadata": {
    "execution": {
     "iopub.execute_input": "2025-07-20T04:53:01.995135Z",
     "iopub.status.busy": "2025-07-20T04:53:01.994925Z",
     "iopub.status.idle": "2025-07-20T04:53:02.012819Z",
     "shell.execute_reply": "2025-07-20T04:53:02.012210Z",
     "shell.execute_reply.started": "2025-07-20T04:53:01.995120Z"
    },
    "trusted": true
   },
   "outputs": [
    {
     "data": {
      "text/html": [
       "<div>\n",
       "<style scoped>\n",
       "    .dataframe tbody tr th:only-of-type {\n",
       "        vertical-align: middle;\n",
       "    }\n",
       "\n",
       "    .dataframe tbody tr th {\n",
       "        vertical-align: top;\n",
       "    }\n",
       "\n",
       "    .dataframe thead th {\n",
       "        text-align: right;\n",
       "    }\n",
       "</style>\n",
       "<table border=\"1\" class=\"dataframe\">\n",
       "  <thead>\n",
       "    <tr style=\"text-align: right;\">\n",
       "      <th></th>\n",
       "      <th>title</th>\n",
       "      <th>text</th>\n",
       "      <th>subject</th>\n",
       "      <th>date</th>\n",
       "    </tr>\n",
       "  </thead>\n",
       "  <tbody>\n",
       "    <tr>\n",
       "      <th>0</th>\n",
       "      <td>Donald Trump Sends Out Embarrassing New Year’...</td>\n",
       "      <td>Donald Trump just couldn t wish all Americans ...</td>\n",
       "      <td>News</td>\n",
       "      <td>December 31, 2017</td>\n",
       "    </tr>\n",
       "    <tr>\n",
       "      <th>1</th>\n",
       "      <td>Drunk Bragging Trump Staffer Started Russian ...</td>\n",
       "      <td>House Intelligence Committee Chairman Devin Nu...</td>\n",
       "      <td>News</td>\n",
       "      <td>December 31, 2017</td>\n",
       "    </tr>\n",
       "    <tr>\n",
       "      <th>2</th>\n",
       "      <td>Sheriff David Clarke Becomes An Internet Joke...</td>\n",
       "      <td>On Friday, it was revealed that former Milwauk...</td>\n",
       "      <td>News</td>\n",
       "      <td>December 30, 2017</td>\n",
       "    </tr>\n",
       "    <tr>\n",
       "      <th>3</th>\n",
       "      <td>Trump Is So Obsessed He Even Has Obama’s Name...</td>\n",
       "      <td>On Christmas day, Donald Trump announced that ...</td>\n",
       "      <td>News</td>\n",
       "      <td>December 29, 2017</td>\n",
       "    </tr>\n",
       "    <tr>\n",
       "      <th>4</th>\n",
       "      <td>Pope Francis Just Called Out Donald Trump Dur...</td>\n",
       "      <td>Pope Francis used his annual Christmas Day mes...</td>\n",
       "      <td>News</td>\n",
       "      <td>December 25, 2017</td>\n",
       "    </tr>\n",
       "  </tbody>\n",
       "</table>\n",
       "</div>"
      ],
      "text/plain": [
       "                                               title  \\\n",
       "0   Donald Trump Sends Out Embarrassing New Year’...   \n",
       "1   Drunk Bragging Trump Staffer Started Russian ...   \n",
       "2   Sheriff David Clarke Becomes An Internet Joke...   \n",
       "3   Trump Is So Obsessed He Even Has Obama’s Name...   \n",
       "4   Pope Francis Just Called Out Donald Trump Dur...   \n",
       "\n",
       "                                                text subject  \\\n",
       "0  Donald Trump just couldn t wish all Americans ...    News   \n",
       "1  House Intelligence Committee Chairman Devin Nu...    News   \n",
       "2  On Friday, it was revealed that former Milwauk...    News   \n",
       "3  On Christmas day, Donald Trump announced that ...    News   \n",
       "4  Pope Francis used his annual Christmas Day mes...    News   \n",
       "\n",
       "                date  \n",
       "0  December 31, 2017  \n",
       "1  December 31, 2017  \n",
       "2  December 30, 2017  \n",
       "3  December 29, 2017  \n",
       "4  December 25, 2017  "
      ]
     },
     "execution_count": 12,
     "metadata": {},
     "output_type": "execute_result"
    }
   ],
   "source": [
    "df_fake.head()"
   ]
  },
  {
   "cell_type": "code",
   "execution_count": 13,
   "metadata": {
    "execution": {
     "iopub.execute_input": "2025-07-20T04:53:02.013712Z",
     "iopub.status.busy": "2025-07-20T04:53:02.013524Z",
     "iopub.status.idle": "2025-07-20T04:53:02.146026Z",
     "shell.execute_reply": "2025-07-20T04:53:02.145421Z",
     "shell.execute_reply.started": "2025-07-20T04:53:02.013699Z"
    },
    "trusted": true
   },
   "outputs": [
    {
     "name": "stdout",
     "output_type": "stream",
     "text": [
      "Valores duplicados em df_fake: 3\n"
     ]
    }
   ],
   "source": [
    "duplicated =  df_fake.duplicated().sum()\n",
    "print(f\"Valores duplicados em df_fake: {duplicated}\")"
   ]
  },
  {
   "cell_type": "code",
   "execution_count": 14,
   "metadata": {
    "execution": {
     "iopub.execute_input": "2025-07-20T04:53:02.147131Z",
     "iopub.status.busy": "2025-07-20T04:53:02.146896Z",
     "iopub.status.idle": "2025-07-20T04:53:02.173498Z",
     "shell.execute_reply": "2025-07-20T04:53:02.172808Z",
     "shell.execute_reply.started": "2025-07-20T04:53:02.147110Z"
    },
    "trusted": true
   },
   "outputs": [
    {
     "name": "stdout",
     "output_type": "stream",
     "text": [
      "630\n"
     ]
    }
   ],
   "source": [
    "count_missing_text(df_fake)"
   ]
  },
  {
   "cell_type": "code",
   "execution_count": 15,
   "metadata": {
    "execution": {
     "iopub.execute_input": "2025-07-20T04:53:02.174475Z",
     "iopub.status.busy": "2025-07-20T04:53:02.174216Z",
     "iopub.status.idle": "2025-07-20T04:53:02.181039Z",
     "shell.execute_reply": "2025-07-20T04:53:02.180331Z",
     "shell.execute_reply.started": "2025-07-20T04:53:02.174453Z"
    },
    "trusted": true
   },
   "outputs": [
    {
     "data": {
      "text/plain": [
       "subject\n",
       "News               9050\n",
       "politics           6841\n",
       "left-news          4459\n",
       "Government News    1570\n",
       "US_News             783\n",
       "Middle-east         778\n",
       "Name: count, dtype: int64"
      ]
     },
     "execution_count": 15,
     "metadata": {},
     "output_type": "execute_result"
    }
   ],
   "source": [
    "df_fake['subject'].value_counts()"
   ]
  },
  {
   "cell_type": "markdown",
   "metadata": {},
   "source": [
    "## Limpeza"
   ]
  },
  {
   "cell_type": "code",
   "execution_count": 16,
   "metadata": {
    "execution": {
     "iopub.execute_input": "2025-07-20T04:53:02.182073Z",
     "iopub.status.busy": "2025-07-20T04:53:02.181765Z",
     "iopub.status.idle": "2025-07-20T04:53:02.197959Z",
     "shell.execute_reply": "2025-07-20T04:53:02.197318Z",
     "shell.execute_reply.started": "2025-07-20T04:53:02.182044Z"
    },
    "trusted": true
   },
   "outputs": [],
   "source": [
    "df_true = df_true.drop(columns=['date', 'subject'])\n",
    "df_fake = df_fake.drop(columns=['date', 'subject'])\n",
    "\n",
    "df_fake['labels'] = 1\n",
    "df_true['labels'] = 0"
   ]
  },
  {
   "cell_type": "markdown",
   "metadata": {},
   "source": [
    "Várias notícias reais iniciam com \"CIDADE - (Reuters)\", informando o local de acontecimento do fato e a fonte. Assim, é importante remover essas informações, tendo em vista que elas podem ser consideradas uma vantagem injusta que poderia facilmente ser explorada pelo modelo ao classificar as notícias com verdadeiras. "
   ]
  },
  {
   "cell_type": "code",
   "execution_count": 17,
   "metadata": {
    "execution": {
     "iopub.execute_input": "2025-07-20T04:53:02.198830Z",
     "iopub.status.busy": "2025-07-20T04:53:02.198586Z",
     "iopub.status.idle": "2025-07-20T04:53:02.212439Z",
     "shell.execute_reply": "2025-07-20T04:53:02.211817Z",
     "shell.execute_reply.started": "2025-07-20T04:53:02.198809Z"
    },
    "trusted": true
   },
   "outputs": [],
   "source": [
    "def remove_lead(text):\n",
    "    \"\"\"\n",
    "    Remove o local e a fonte que precede as notícias reais\n",
    "    \"\"\"\n",
    "    return re.sub(r'^([A-Z\\s./]+\\s)?\\(Reuters\\)\\s-\\s', '', text)"
   ]
  },
  {
   "cell_type": "markdown",
   "metadata": {},
   "source": [
    "Abaixo testamos a função remove_lead."
   ]
  },
  {
   "cell_type": "code",
   "execution_count": 18,
   "metadata": {
    "execution": {
     "iopub.execute_input": "2025-07-20T04:53:02.213252Z",
     "iopub.status.busy": "2025-07-20T04:53:02.213073Z",
     "iopub.status.idle": "2025-07-20T04:53:02.230574Z",
     "shell.execute_reply": "2025-07-20T04:53:02.230017Z",
     "shell.execute_reply.started": "2025-07-20T04:53:02.213234Z"
    },
    "trusted": true
   },
   "outputs": [
    {
     "name": "stdout",
     "output_type": "stream",
     "text": [
      "                                                text  \\\n",
      "0  WASHINGTON/NEW YORK (Reuters) - The president ...   \n",
      "1                     (Reuters) - The market rose...   \n",
      "2              WASHINGTON (Reuters) - Stocks fell...   \n",
      "3  WEST PALM B. (Reuters) - A meteor destroided t...   \n",
      "\n",
      "                           cleaned  \n",
      "0      The president said today...  \n",
      "1               The market rose...  \n",
      "2                   Stocks fell...  \n",
      "3  A meteor destroided the city...  \n"
     ]
    }
   ],
   "source": [
    "df = pd.DataFrame({\n",
    "    'text': [\n",
    "        'WASHINGTON/NEW YORK (Reuters) - The president said today...',\n",
    "        '(Reuters) - The market rose...',\n",
    "        'WASHINGTON (Reuters) - Stocks fell...',\n",
    "        'WEST PALM B. (Reuters) - A meteor destroided the city...'\n",
    "    ]\n",
    "})\n",
    "\n",
    "df['cleaned'] = df['text'].apply(remove_lead)\n",
    "\n",
    "print(df[['text', 'cleaned']])"
   ]
  },
  {
   "cell_type": "code",
   "execution_count": 19,
   "metadata": {
    "execution": {
     "iopub.execute_input": "2025-07-20T04:53:02.231414Z",
     "iopub.status.busy": "2025-07-20T04:53:02.231192Z",
     "iopub.status.idle": "2025-07-20T04:53:02.314907Z",
     "shell.execute_reply": "2025-07-20T04:53:02.314401Z",
     "shell.execute_reply.started": "2025-07-20T04:53:02.231394Z"
    },
    "trusted": true
   },
   "outputs": [],
   "source": [
    "df_true['text'] = df_true['text'].apply(remove_lead)"
   ]
  },
  {
   "cell_type": "code",
   "execution_count": 20,
   "metadata": {
    "execution": {
     "iopub.execute_input": "2025-07-20T04:53:02.315794Z",
     "iopub.status.busy": "2025-07-20T04:53:02.315593Z",
     "iopub.status.idle": "2025-07-20T04:53:02.323235Z",
     "shell.execute_reply": "2025-07-20T04:53:02.322654Z",
     "shell.execute_reply.started": "2025-07-20T04:53:02.315777Z"
    },
    "trusted": true
   },
   "outputs": [
    {
     "data": {
      "text/html": [
       "<div>\n",
       "<style scoped>\n",
       "    .dataframe tbody tr th:only-of-type {\n",
       "        vertical-align: middle;\n",
       "    }\n",
       "\n",
       "    .dataframe tbody tr th {\n",
       "        vertical-align: top;\n",
       "    }\n",
       "\n",
       "    .dataframe thead th {\n",
       "        text-align: right;\n",
       "    }\n",
       "</style>\n",
       "<table border=\"1\" class=\"dataframe\">\n",
       "  <thead>\n",
       "    <tr style=\"text-align: right;\">\n",
       "      <th></th>\n",
       "      <th>title</th>\n",
       "      <th>text</th>\n",
       "      <th>labels</th>\n",
       "    </tr>\n",
       "  </thead>\n",
       "  <tbody>\n",
       "    <tr>\n",
       "      <th>0</th>\n",
       "      <td>As U.S. budget fight looms, Republicans flip t...</td>\n",
       "      <td>The head of a conservative Republican faction ...</td>\n",
       "      <td>0</td>\n",
       "    </tr>\n",
       "    <tr>\n",
       "      <th>1</th>\n",
       "      <td>U.S. military to accept transgender recruits o...</td>\n",
       "      <td>Transgender people will be allowed for the fir...</td>\n",
       "      <td>0</td>\n",
       "    </tr>\n",
       "    <tr>\n",
       "      <th>2</th>\n",
       "      <td>Senior U.S. Republican senator: 'Let Mr. Muell...</td>\n",
       "      <td>The special counsel investigation of links bet...</td>\n",
       "      <td>0</td>\n",
       "    </tr>\n",
       "    <tr>\n",
       "      <th>3</th>\n",
       "      <td>FBI Russia probe helped by Australian diplomat...</td>\n",
       "      <td>Trump campaign adviser George Papadopoulos tol...</td>\n",
       "      <td>0</td>\n",
       "    </tr>\n",
       "    <tr>\n",
       "      <th>4</th>\n",
       "      <td>Trump wants Postal Service to charge 'much mor...</td>\n",
       "      <td>President Donald Trump called on the U.S. Post...</td>\n",
       "      <td>0</td>\n",
       "    </tr>\n",
       "  </tbody>\n",
       "</table>\n",
       "</div>"
      ],
      "text/plain": [
       "                                               title  \\\n",
       "0  As U.S. budget fight looms, Republicans flip t...   \n",
       "1  U.S. military to accept transgender recruits o...   \n",
       "2  Senior U.S. Republican senator: 'Let Mr. Muell...   \n",
       "3  FBI Russia probe helped by Australian diplomat...   \n",
       "4  Trump wants Postal Service to charge 'much mor...   \n",
       "\n",
       "                                                text  labels  \n",
       "0  The head of a conservative Republican faction ...       0  \n",
       "1  Transgender people will be allowed for the fir...       0  \n",
       "2  The special counsel investigation of links bet...       0  \n",
       "3  Trump campaign adviser George Papadopoulos tol...       0  \n",
       "4  President Donald Trump called on the U.S. Post...       0  "
      ]
     },
     "execution_count": 20,
     "metadata": {},
     "output_type": "execute_result"
    }
   ],
   "source": [
    "df_true.head()"
   ]
  },
  {
   "cell_type": "code",
   "execution_count": 21,
   "metadata": {
    "execution": {
     "iopub.execute_input": "2025-07-20T04:53:02.324415Z",
     "iopub.status.busy": "2025-07-20T04:53:02.323993Z",
     "iopub.status.idle": "2025-07-20T04:53:02.339891Z",
     "shell.execute_reply": "2025-07-20T04:53:02.339343Z",
     "shell.execute_reply.started": "2025-07-20T04:53:02.324390Z"
    },
    "trusted": true
   },
   "outputs": [],
   "source": [
    "df_merged = pd.concat([df_fake, df_true], ignore_index=True)"
   ]
  },
  {
   "cell_type": "code",
   "execution_count": 22,
   "metadata": {
    "execution": {
     "iopub.execute_input": "2025-07-20T04:53:02.344110Z",
     "iopub.status.busy": "2025-07-20T04:53:02.343923Z",
     "iopub.status.idle": "2025-07-20T04:53:02.358935Z",
     "shell.execute_reply": "2025-07-20T04:53:02.358336Z",
     "shell.execute_reply.started": "2025-07-20T04:53:02.344096Z"
    },
    "trusted": true
   },
   "outputs": [],
   "source": [
    "def remove_empty(df):\n",
    "    # Remove linhas onde 'title' ou 'text' são strings vazias (ou só espaços)\n",
    "    df = df.loc[\n",
    "        (df['title'] != '') & (df['text'] != '')\n",
    "    ]\n",
    "\n",
    "    # Remove duplicatas considerando só 'title' e 'text'\n",
    "    df = df.drop_duplicates(subset=['title', 'text'])\n",
    "    \n",
    "    return df"
   ]
  },
  {
   "cell_type": "code",
   "execution_count": 23,
   "metadata": {
    "execution": {
     "iopub.execute_input": "2025-07-20T04:53:02.360077Z",
     "iopub.status.busy": "2025-07-20T04:53:02.359839Z",
     "iopub.status.idle": "2025-07-20T04:53:02.375440Z",
     "shell.execute_reply": "2025-07-20T04:53:02.374750Z",
     "shell.execute_reply.started": "2025-07-20T04:53:02.360056Z"
    },
    "trusted": true
   },
   "outputs": [],
   "source": [
    "def clean_lstm_df(df):\n",
    "    \"\"\"\n",
    "    Aplica a limpeza de texto nas colunas 'title' e 'text' de um DataFrame.\n",
    "    Remove linhas vazias e duplicatas após limpeza.\n",
    "    Retorna o DataFrame limpo.\n",
    "    \"\"\"\n",
    "    df = df.copy()\n",
    "\n",
    "    # Aplica limpeza\n",
    "    df['title'] = df['title'].astype(str).apply(clean_lstm)\n",
    "    df['text'] = df['text'].astype(str).apply(clean_lstm)\n",
    "\n",
    "    df = remove_empty(df)\n",
    "\n",
    "    return df\n",
    "\n",
    "def clean_lstm(text):\n",
    "    \"\"\"\n",
    "    Limpa o texto removendo:\n",
    "    - Pontuação\n",
    "    - Caracteres especiais (exceto letras e números)\n",
    "    - Stopwords\n",
    "    - Converte tudo para minúsculas\n",
    "    \"\"\"\n",
    "\n",
    "    text = text.lower()\n",
    "    text = text.translate(str.maketrans('', '', string.punctuation))\n",
    "    text = re.sub(r'[^a-zA-Z0-9\\s]', '', text)\n",
    "    words = text.split()\n",
    "    words = [word for word in words if word not in stop_words]\n",
    "    return ' '.join(words)"
   ]
  },
  {
   "cell_type": "code",
   "execution_count": 24,
   "metadata": {
    "execution": {
     "iopub.execute_input": "2025-07-20T04:53:02.376302Z",
     "iopub.status.busy": "2025-07-20T04:53:02.376147Z",
     "iopub.status.idle": "2025-07-20T04:53:02.389703Z",
     "shell.execute_reply": "2025-07-20T04:53:02.389106Z",
     "shell.execute_reply.started": "2025-07-20T04:53:02.376289Z"
    },
    "trusted": true
   },
   "outputs": [],
   "source": [
    "def clean_df(df):\n",
    "    # Remove linhas com NaN\n",
    "    df = df.dropna()\n",
    "    \n",
    "    url_pattern = r'http\\S+|www\\.\\S+'\n",
    "    email_pattern = r'\\S+@\\S+'\n",
    "\n",
    "    for col in ['title', 'text']:\n",
    "        df[col] = (\n",
    "            df[col]\n",
    "            .str.replace(url_pattern, '', regex=True)\n",
    "            .str.replace(email_pattern, '', regex=True)\n",
    "            .str.strip()  # remove espaços em branco antes e depois\n",
    "        )\n",
    "    \n",
    "    df = remove_empty(df)\n",
    "    \n",
    "    return df"
   ]
  },
  {
   "cell_type": "code",
   "execution_count": 25,
   "metadata": {
    "execution": {
     "iopub.execute_input": "2025-07-20T04:53:02.390721Z",
     "iopub.status.busy": "2025-07-20T04:53:02.390492Z",
     "iopub.status.idle": "2025-07-20T04:53:08.282994Z",
     "shell.execute_reply": "2025-07-20T04:53:08.282259Z",
     "shell.execute_reply.started": "2025-07-20T04:53:02.390701Z"
    },
    "trusted": true
   },
   "outputs": [],
   "source": [
    "df_merged = clean_df(df_merged)"
   ]
  },
  {
   "cell_type": "code",
   "execution_count": 26,
   "metadata": {
    "execution": {
     "iopub.execute_input": "2025-07-20T04:53:08.284033Z",
     "iopub.status.busy": "2025-07-20T04:53:08.283790Z",
     "iopub.status.idle": "2025-07-20T04:53:14.518763Z",
     "shell.execute_reply": "2025-07-20T04:53:14.518195Z",
     "shell.execute_reply.started": "2025-07-20T04:53:08.284011Z"
    },
    "trusted": true
   },
   "outputs": [],
   "source": [
    "df_merged_lstm = clean_lstm_df(df_merged)"
   ]
  },
  {
   "cell_type": "code",
   "execution_count": 27,
   "metadata": {
    "execution": {
     "iopub.execute_input": "2025-07-20T04:53:14.519596Z",
     "iopub.status.busy": "2025-07-20T04:53:14.519420Z",
     "iopub.status.idle": "2025-07-20T04:53:14.554603Z",
     "shell.execute_reply": "2025-07-20T04:53:14.554012Z",
     "shell.execute_reply.started": "2025-07-20T04:53:14.519581Z"
    },
    "trusted": true
   },
   "outputs": [
    {
     "name": "stdout",
     "output_type": "stream",
     "text": [
      "0\n"
     ]
    }
   ],
   "source": [
    "count_missing_text(df_merged)"
   ]
  },
  {
   "cell_type": "code",
   "execution_count": 28,
   "metadata": {
    "execution": {
     "iopub.execute_input": "2025-07-20T04:53:14.555342Z",
     "iopub.status.busy": "2025-07-20T04:53:14.555182Z",
     "iopub.status.idle": "2025-07-20T04:53:14.584010Z",
     "shell.execute_reply": "2025-07-20T04:53:14.583396Z",
     "shell.execute_reply.started": "2025-07-20T04:53:14.555329Z"
    },
    "trusted": true
   },
   "outputs": [
    {
     "name": "stdout",
     "output_type": "stream",
     "text": [
      "0\n"
     ]
    }
   ],
   "source": [
    "count_missing_text(df_merged_lstm)"
   ]
  },
  {
   "cell_type": "code",
   "execution_count": 29,
   "metadata": {
    "execution": {
     "iopub.execute_input": "2025-07-20T04:53:14.585217Z",
     "iopub.status.busy": "2025-07-20T04:53:14.584724Z",
     "iopub.status.idle": "2025-07-20T04:53:14.601003Z",
     "shell.execute_reply": "2025-07-20T04:53:14.600504Z",
     "shell.execute_reply.started": "2025-07-20T04:53:14.585199Z"
    },
    "trusted": true
   },
   "outputs": [
    {
     "data": {
      "text/html": [
       "<div>\n",
       "<style scoped>\n",
       "    .dataframe tbody tr th:only-of-type {\n",
       "        vertical-align: middle;\n",
       "    }\n",
       "\n",
       "    .dataframe tbody tr th {\n",
       "        vertical-align: top;\n",
       "    }\n",
       "\n",
       "    .dataframe thead th {\n",
       "        text-align: right;\n",
       "    }\n",
       "</style>\n",
       "<table border=\"1\" class=\"dataframe\">\n",
       "  <thead>\n",
       "    <tr style=\"text-align: right;\">\n",
       "      <th></th>\n",
       "      <th>title</th>\n",
       "      <th>text</th>\n",
       "      <th>labels</th>\n",
       "    </tr>\n",
       "  </thead>\n",
       "  <tbody>\n",
       "    <tr>\n",
       "      <th>0</th>\n",
       "      <td>donald trump sends embarrassing new years eve ...</td>\n",
       "      <td>donald trump wish americans happy new year lea...</td>\n",
       "      <td>1</td>\n",
       "    </tr>\n",
       "    <tr>\n",
       "      <th>1</th>\n",
       "      <td>drunk bragging trump staffer started russian c...</td>\n",
       "      <td>house intelligence committee chairman devin nu...</td>\n",
       "      <td>1</td>\n",
       "    </tr>\n",
       "    <tr>\n",
       "      <th>2</th>\n",
       "      <td>sheriff david clarke becomes internet joke thr...</td>\n",
       "      <td>friday revealed former milwaukee sheriff david...</td>\n",
       "      <td>1</td>\n",
       "    </tr>\n",
       "    <tr>\n",
       "      <th>3</th>\n",
       "      <td>trump obsessed even obamas name coded website ...</td>\n",
       "      <td>christmas day donald trump announced would bac...</td>\n",
       "      <td>1</td>\n",
       "    </tr>\n",
       "    <tr>\n",
       "      <th>4</th>\n",
       "      <td>pope francis called donald trump christmas speech</td>\n",
       "      <td>pope francis used annual christmas day message...</td>\n",
       "      <td>1</td>\n",
       "    </tr>\n",
       "  </tbody>\n",
       "</table>\n",
       "</div>"
      ],
      "text/plain": [
       "                                               title  \\\n",
       "0  donald trump sends embarrassing new years eve ...   \n",
       "1  drunk bragging trump staffer started russian c...   \n",
       "2  sheriff david clarke becomes internet joke thr...   \n",
       "3  trump obsessed even obamas name coded website ...   \n",
       "4  pope francis called donald trump christmas speech   \n",
       "\n",
       "                                                text  labels  \n",
       "0  donald trump wish americans happy new year lea...       1  \n",
       "1  house intelligence committee chairman devin nu...       1  \n",
       "2  friday revealed former milwaukee sheriff david...       1  \n",
       "3  christmas day donald trump announced would bac...       1  \n",
       "4  pope francis used annual christmas day message...       1  "
      ]
     },
     "execution_count": 29,
     "metadata": {},
     "output_type": "execute_result"
    }
   ],
   "source": [
    "df_merged_lstm.head()"
   ]
  },
  {
   "cell_type": "markdown",
   "metadata": {},
   "source": [
    "## Divisão do Dataset"
   ]
  },
  {
   "cell_type": "code",
   "execution_count": 30,
   "metadata": {
    "execution": {
     "iopub.execute_input": "2025-07-20T04:53:14.602396Z",
     "iopub.status.busy": "2025-07-20T04:53:14.601690Z",
     "iopub.status.idle": "2025-07-20T04:53:14.616568Z",
     "shell.execute_reply": "2025-07-20T04:53:14.615923Z",
     "shell.execute_reply.started": "2025-07-20T04:53:14.602343Z"
    },
    "trusted": true
   },
   "outputs": [],
   "source": [
    "def split_train_val_test(df, label_col, test_size=0.4, val_size=0.5, random_state=42):\n",
    "    \"\"\"\n",
    "    Divide um DataFrame em treino, validação e teste com estratificação.\n",
    "    \n",
    "    Parâmetros:\n",
    "    - df: DataFrame de entrada.\n",
    "    - label_col: Nome da coluna com os rótulos para stratify.\n",
    "    - test_size: Fração do total que vai para teste + validação.\n",
    "    - val_size: Fração do conjunto (teste + validação) que será validação.\n",
    "    - random_state: Semente para reprodutibilidade.\n",
    "    \n",
    "    Retorna:\n",
    "    - df_train, df_val, df_test\n",
    "    \"\"\"\n",
    "    # Primeiro split: Treino + (Validação + Teste)\n",
    "    df_train, df_val_test = train_test_split(\n",
    "        df,\n",
    "        test_size=test_size,\n",
    "        random_state=random_state,\n",
    "        stratify=df[label_col]\n",
    "    )\n",
    "    \n",
    "    # Segundo split: Validação + Teste\n",
    "    df_val, df_test = train_test_split(\n",
    "        df_val_test,\n",
    "        test_size=val_size,\n",
    "        random_state=random_state,\n",
    "        stratify=df_val_test[label_col]\n",
    "    )\n",
    "    \n",
    "    return df_train, df_val, df_test"
   ]
  },
  {
   "cell_type": "code",
   "execution_count": 31,
   "metadata": {
    "execution": {
     "iopub.execute_input": "2025-07-20T04:53:14.617446Z",
     "iopub.status.busy": "2025-07-20T04:53:14.617230Z",
     "iopub.status.idle": "2025-07-20T04:53:14.633474Z",
     "shell.execute_reply": "2025-07-20T04:53:14.632668Z",
     "shell.execute_reply.started": "2025-07-20T04:53:14.617431Z"
    },
    "trusted": true
   },
   "outputs": [],
   "source": [
    "def check_data_leak(df_train, df_val, df_test, cols=['title','text']):\n",
    "    \"\"\"\n",
    "    Verifica interseção de linhas duplicadas entre train, val e test usando hash.\n",
    "    Remove a coluna auxiliar 'row_hash' depois.\n",
    "    \n",
    "    Parâmetros:\n",
    "    - df_train: DataFrame de treino\n",
    "    - df_val: DataFrame de validação\n",
    "    - df_test: DataFrame de teste\n",
    "    - cols: Lista de colunas que identificam o conteúdo único\n",
    "    \n",
    "    Retorna:\n",
    "    - Dicionário com contagem de overlaps\n",
    "    \"\"\"\n",
    "    # Cria coluna de hash\n",
    "    df_train[\"row_hash\"] = df_train[cols].astype(str).sum(axis=1).apply(hash)\n",
    "    df_val[\"row_hash\"] = df_val[cols].astype(str).sum(axis=1).apply(hash)\n",
    "    df_test[\"row_hash\"] = df_test[cols].astype(str).sum(axis=1).apply(hash)\n",
    "    \n",
    "    # Calcula interseções\n",
    "    train_val_overlap = set(df_train[\"row_hash\"]) & set(df_val[\"row_hash\"])\n",
    "    train_test_overlap = set(df_train[\"row_hash\"]) & set(df_test[\"row_hash\"])\n",
    "    val_test_overlap = set(df_val[\"row_hash\"]) & set(df_test[\"row_hash\"])\n",
    "    \n",
    "    print(f\"Overlap hashes train-val: {len(train_val_overlap)}\")\n",
    "    print(f\"Overlap hashes train-test: {len(train_test_overlap)}\")\n",
    "    print(f\"Overlap hashes val-test: {len(val_test_overlap)}\")\n",
    "    \n",
    "    # Remove coluna auxiliar\n",
    "    df_train.drop(\"row_hash\", axis=1, inplace=True)\n",
    "    df_val.drop(\"row_hash\", axis=1, inplace=True)\n",
    "    df_test.drop(\"row_hash\", axis=1, inplace=True)\n",
    "    \n",
    "    return {\n",
    "        \"train_val_overlap\": len(train_val_overlap),\n",
    "        \"train_test_overlap\": len(train_test_overlap),\n",
    "        \"val_test_overlap\": len(val_test_overlap)\n",
    "    }\n"
   ]
  },
  {
   "cell_type": "markdown",
   "metadata": {},
   "source": [
    "### Dados para BERT"
   ]
  },
  {
   "cell_type": "code",
   "execution_count": 38,
   "metadata": {
    "execution": {
     "iopub.execute_input": "2025-07-20T04:54:18.659161Z",
     "iopub.status.busy": "2025-07-20T04:54:18.658895Z",
     "iopub.status.idle": "2025-07-20T04:54:18.688461Z",
     "shell.execute_reply": "2025-07-20T04:54:18.687807Z",
     "shell.execute_reply.started": "2025-07-20T04:54:18.659143Z"
    },
    "trusted": true
   },
   "outputs": [],
   "source": [
    "# Split treino + teste\n",
    "df_train, df_val, df_test = split_train_val_test(df_merged, label_col= 'labels')"
   ]
  },
  {
   "cell_type": "code",
   "execution_count": 41,
   "metadata": {
    "execution": {
     "iopub.execute_input": "2025-07-20T04:54:43.228550Z",
     "iopub.status.busy": "2025-07-20T04:54:43.228073Z",
     "iopub.status.idle": "2025-07-20T04:54:43.459014Z",
     "shell.execute_reply": "2025-07-20T04:54:43.458466Z",
     "shell.execute_reply.started": "2025-07-20T04:54:43.228528Z"
    },
    "trusted": true
   },
   "outputs": [
    {
     "name": "stdout",
     "output_type": "stream",
     "text": [
      "Overlap hashes train-val: 0\n",
      "Overlap hashes train-test: 0\n",
      "Overlap hashes val-test: 0\n"
     ]
    },
    {
     "data": {
      "text/plain": [
       "{'train_val_overlap': 0, 'train_test_overlap': 0, 'val_test_overlap': 0}"
      ]
     },
     "execution_count": 41,
     "metadata": {},
     "output_type": "execute_result"
    }
   ],
   "source": [
    "check_data_leak(df_train, df_val, df_test)"
   ]
  },
  {
   "cell_type": "code",
   "execution_count": 40,
   "metadata": {
    "execution": {
     "iopub.execute_input": "2025-07-20T04:54:20.318913Z",
     "iopub.status.busy": "2025-07-20T04:54:20.318210Z",
     "iopub.status.idle": "2025-07-20T04:54:20.322779Z",
     "shell.execute_reply": "2025-07-20T04:54:20.322216Z",
     "shell.execute_reply.started": "2025-07-20T04:54:20.318888Z"
    },
    "trusted": true
   },
   "outputs": [
    {
     "name": "stdout",
     "output_type": "stream",
     "text": [
      "(23161, 3)\n",
      "(7721, 3)\n",
      "(7721, 3)\n"
     ]
    }
   ],
   "source": [
    "print(df_train.shape)\n",
    "print(df_test.shape)\n",
    "print(df_test.shape)"
   ]
  },
  {
   "cell_type": "code",
   "execution_count": null,
   "metadata": {
    "execution": {
     "iopub.status.busy": "2025-07-20T04:53:14.927030Z",
     "iopub.status.idle": "2025-07-20T04:53:14.927259Z",
     "shell.execute_reply": "2025-07-20T04:53:14.927163Z",
     "shell.execute_reply.started": "2025-07-20T04:53:14.927152Z"
    },
    "trusted": true
   },
   "outputs": [],
   "source": [
    "#Salvar cada split em CSV\n",
    "df_train.to_csv(\"bert_train.csv\", index=False)\n",
    "df_val.to_csv(\"bert_val.csv\", index=False)\n",
    "df_test.to_csv(\"bert_test.csv\", index=False)"
   ]
  },
  {
   "cell_type": "markdown",
   "metadata": {},
   "source": [
    "### Dados Para LSTM"
   ]
  },
  {
   "cell_type": "code",
   "execution_count": 42,
   "metadata": {
    "execution": {
     "iopub.execute_input": "2025-07-20T04:54:47.293766Z",
     "iopub.status.busy": "2025-07-20T04:54:47.293125Z",
     "iopub.status.idle": "2025-07-20T04:54:47.321665Z",
     "shell.execute_reply": "2025-07-20T04:54:47.321163Z",
     "shell.execute_reply.started": "2025-07-20T04:54:47.293744Z"
    },
    "trusted": true
   },
   "outputs": [],
   "source": [
    "# Split treino + teste\n",
    "df_train, df_val, df_test = split_train_val_test(df_merged_lstm, label_col= 'labels')"
   ]
  },
  {
   "cell_type": "code",
   "execution_count": 43,
   "metadata": {
    "execution": {
     "iopub.execute_input": "2025-07-20T04:54:48.083697Z",
     "iopub.status.busy": "2025-07-20T04:54:48.083237Z",
     "iopub.status.idle": "2025-07-20T04:54:48.209670Z",
     "shell.execute_reply": "2025-07-20T04:54:48.209134Z",
     "shell.execute_reply.started": "2025-07-20T04:54:48.083677Z"
    },
    "trusted": true
   },
   "outputs": [
    {
     "name": "stdout",
     "output_type": "stream",
     "text": [
      "Overlap hashes train-val: 0\n",
      "Overlap hashes train-test: 0\n",
      "Overlap hashes val-test: 0\n"
     ]
    },
    {
     "data": {
      "text/plain": [
       "{'train_val_overlap': 0, 'train_test_overlap': 0, 'val_test_overlap': 0}"
      ]
     },
     "execution_count": 43,
     "metadata": {},
     "output_type": "execute_result"
    }
   ],
   "source": [
    "check_data_leak(df_train, df_val, df_test)"
   ]
  },
  {
   "cell_type": "code",
   "execution_count": 44,
   "metadata": {
    "execution": {
     "iopub.execute_input": "2025-07-20T04:54:48.953516Z",
     "iopub.status.busy": "2025-07-20T04:54:48.953192Z",
     "iopub.status.idle": "2025-07-20T04:54:50.738934Z",
     "shell.execute_reply": "2025-07-20T04:54:50.738415Z",
     "shell.execute_reply.started": "2025-07-20T04:54:48.953497Z"
    },
    "trusted": true
   },
   "outputs": [],
   "source": [
    "#Salvar cada split em CSV\n",
    "df_train.to_csv(\"lstm_train.csv\", index=False)\n",
    "df_val.to_csv(\"lstm_val.csv\", index=False)\n",
    "df_test.to_csv(\"lstm_test.csv\", index=False)"
   ]
  },
  {
   "cell_type": "markdown",
   "metadata": {},
   "source": [
    "## Exploração do Texto"
   ]
  },
  {
   "cell_type": "code",
   "execution_count": 45,
   "metadata": {
    "execution": {
     "iopub.execute_input": "2025-07-20T04:54:51.573033Z",
     "iopub.status.busy": "2025-07-20T04:54:51.572432Z",
     "iopub.status.idle": "2025-07-20T04:54:51.577375Z",
     "shell.execute_reply": "2025-07-20T04:54:51.576733Z",
     "shell.execute_reply.started": "2025-07-20T04:54:51.573012Z"
    },
    "trusted": true
   },
   "outputs": [],
   "source": [
    "def explore_distribution(df, colName):\n",
    "    \"\"\"\n",
    "    Plot the distribution of colName\n",
    "    \"\"\"\n",
    "    label_counts = df[colName].value_counts()\n",
    "    label_percentages = round(label_counts / len(df) * 100, 2)\n",
    "\n",
    "    print(\"colName distribution:\")\n",
    "    print(label_counts)\n",
    "    print(\"\\nPercentage:\")\n",
    "    print(label_percentages)\n",
    "\n",
    "    label_counts.plot(kind='bar', title='{colName} Distribution')\n",
    "    plt.xlabel(colName)\n",
    "    plt.ylabel('Count')\n",
    "    plt.xticks(rotation=0)\n",
    "    plt.grid(True, axis='y', linestyle='--', alpha=0.7)\n",
    "    plt.tight_layout()\n",
    "    plt.show()"
   ]
  },
  {
   "cell_type": "code",
   "execution_count": 46,
   "metadata": {
    "execution": {
     "iopub.execute_input": "2025-07-20T04:54:51.887462Z",
     "iopub.status.busy": "2025-07-20T04:54:51.887027Z",
     "iopub.status.idle": "2025-07-20T04:54:52.182879Z",
     "shell.execute_reply": "2025-07-20T04:54:52.182195Z",
     "shell.execute_reply.started": "2025-07-20T04:54:51.887444Z"
    },
    "trusted": true
   },
   "outputs": [
    {
     "name": "stdout",
     "output_type": "stream",
     "text": [
      "colName distribution:\n",
      "labels\n",
      "0    21195\n",
      "1    17408\n",
      "Name: count, dtype: int64\n",
      "\n",
      "Percentage:\n",
      "labels\n",
      "0    54.91\n",
      "1    45.09\n",
      "Name: count, dtype: float64\n"
     ]
    },
    {
     "data": {
      "image/png": "[encoded data removed]",
      "text/plain": [
       "<Figure size 640x480 with 1 Axes>"
      ]
     },
     "metadata": {},
     "output_type": "display_data"
    }
   ],
   "source": [
    "explore_distribution(df_merged, 'labels')"
   ]
  },
  {
   "cell_type": "code",
   "execution_count": 47,
   "metadata": {
    "execution": {
     "iopub.execute_input": "2025-07-20T04:54:52.184240Z",
     "iopub.status.busy": "2025-07-20T04:54:52.184038Z",
     "iopub.status.idle": "2025-07-20T04:54:52.190428Z",
     "shell.execute_reply": "2025-07-20T04:54:52.189760Z",
     "shell.execute_reply.started": "2025-07-20T04:54:52.184225Z"
    },
    "trusted": true
   },
   "outputs": [],
   "source": [
    "def plot_length_histograms(df_input):\n",
    "    \"\"\"\n",
    "    Plot histograms of title and text lengths grouped by label.\n",
    "    \"\"\"\n",
    "    df = df_input.copy()\n",
    "    \n",
    "    df['title_len'] = df['title'].astype(str).apply(len)\n",
    "    df['text_len'] = df['text'].astype(str).apply(len)\n",
    "\n",
    "    fig, axes = plt.subplots(nrows=1, ncols=2, figsize=(14, 5))\n",
    "\n",
    "    for label in df['labels'].unique():\n",
    "        subset = df[df['labels'] == label]\n",
    "        axes[0].hist(subset['title_len'], bins=50, alpha=0.5, label=label)\n",
    "    axes[0].set_title(\"Comprimento do título por veracidade\")\n",
    "    axes[0].set_xlabel(\"Title Length\")\n",
    "    axes[0].set_ylabel(\"Count\")\n",
    "    axes[0].legend(title=\"Fake\")\n",
    "    axes[0].grid(True, linestyle='--', alpha=0.6)\n",
    "\n",
    "    for label in df['labels'].unique():\n",
    "        subset = df[df['labels'] == label]\n",
    "        axes[1].hist(subset['text_len'], bins=50, alpha=0.5, label=label)\n",
    "    axes[1].set_title(\"Comprimento do texto por veracidade\")\n",
    "    axes[1].set_xlabel(\"Text Length\")\n",
    "    axes[1].set_ylabel(\"Count\")\n",
    "    axes[1].legend(title=\"Fake\")\n",
    "    axes[1].grid(True, linestyle='--', alpha=0.6)\n",
    "\n",
    "    plt.tight_layout()\n",
    "    plt.show()"
   ]
  },
  {
   "cell_type": "code",
   "execution_count": 48,
   "metadata": {
    "execution": {
     "iopub.execute_input": "2025-07-20T04:54:52.236598Z",
     "iopub.status.busy": "2025-07-20T04:54:52.236083Z",
     "iopub.status.idle": "2025-07-20T04:54:52.859256Z",
     "shell.execute_reply": "2025-07-20T04:54:52.858607Z",
     "shell.execute_reply.started": "2025-07-20T04:54:52.236581Z"
    },
    "trusted": true
   },
   "outputs": [
    {
     "data": {
      "image/png": "[encoded data removed]",
      "text/plain": [
       "<Figure size 1400x500 with 2 Axes>"
      ]
     },
     "metadata": {},
     "output_type": "display_data"
    }
   ],
   "source": [
    "plot_length_histograms(df_merged)"
   ]
  },
  {
   "cell_type": "code",
   "execution_count": 49,
   "metadata": {
    "execution": {
     "iopub.execute_input": "2025-07-20T04:54:52.860575Z",
     "iopub.status.busy": "2025-07-20T04:54:52.860324Z",
     "iopub.status.idle": "2025-07-20T04:54:52.866454Z",
     "shell.execute_reply": "2025-07-20T04:54:52.865896Z",
     "shell.execute_reply.started": "2025-07-20T04:54:52.860558Z"
    },
    "trusted": true
   },
   "outputs": [],
   "source": [
    "def plot_common_words(df, column='text', top_n=30):\n",
    "    \"\"\"\n",
    "    Plot most common words in a text column by label ('fake' vs 'true'),\n",
    "    excluding stopwords.\n",
    "    \"\"\"\n",
    "    def make_list(text):\n",
    "        tokens = re.findall(r\"\\b\\w+\\b\", str(text).lower())\n",
    "        filtered = [word for word in tokens if word not in stop_words]\n",
    "        return filtered\n",
    "\n",
    "    fig, axes = plt.subplots(1, 2, figsize=(16, 6))\n",
    "\n",
    "    for ax, label in zip(axes, [1, 0]):\n",
    "        # Filtra o dataframe sem alterar o original\n",
    "        texts = df[df['labels'] == label][column].apply(make_list)\n",
    "        word_counts = Counter(word for tokens in texts for word in tokens)\n",
    "        common = word_counts.most_common(top_n)\n",
    "        words, counts = zip(*common)\n",
    "\n",
    "        title = 'Fake' if label == 1 else 'True'\n",
    "\n",
    "        sns.barplot(x=list(counts), y=list(words), ax=ax)\n",
    "        ax.set_title(f\"Top {top_n} Words in {column.capitalize()} ({title})\")\n",
    "        ax.set_xlabel(\"Count\")\n",
    "        ax.set_ylabel(\"Word\")\n",
    "\n",
    "    plt.tight_layout()\n",
    "    plt.show()"
   ]
  },
  {
   "cell_type": "code",
   "execution_count": 50,
   "metadata": {
    "execution": {
     "iopub.execute_input": "2025-07-20T04:54:56.739395Z",
     "iopub.status.busy": "2025-07-20T04:54:56.739113Z",
     "iopub.status.idle": "2025-07-20T04:55:03.269452Z",
     "shell.execute_reply": "2025-07-20T04:55:03.268743Z",
     "shell.execute_reply.started": "2025-07-20T04:54:56.739347Z"
    },
    "trusted": true
   },
   "outputs": [
    {
     "name": "stderr",
     "output_type": "stream",
     "text": [
      "/usr/local/lib/python3.11/dist-packages/seaborn/_oldcore.py:1765: FutureWarning: unique with argument that is not not a Series, Index, ExtensionArray, or np.ndarray is deprecated and will raise in a future version.\n",
      "  order = pd.unique(vector)\n",
      "/usr/local/lib/python3.11/dist-packages/seaborn/_oldcore.py:1765: FutureWarning: unique with argument that is not not a Series, Index, ExtensionArray, or np.ndarray is deprecated and will raise in a future version.\n",
      "  order = pd.unique(vector)\n"
     ]
    },
    {
     "data": {
      "image/png": "[encoded data removed]",
      "text/plain": [
       "<Figure size 1600x600 with 2 Axes>"
      ]
     },
     "metadata": {},
     "output_type": "display_data"
    },
    {
     "name": "stderr",
     "output_type": "stream",
     "text": [
      "/usr/local/lib/python3.11/dist-packages/seaborn/_oldcore.py:1765: FutureWarning: unique with argument that is not not a Series, Index, ExtensionArray, or np.ndarray is deprecated and will raise in a future version.\n",
      "  order = pd.unique(vector)\n",
      "/usr/local/lib/python3.11/dist-packages/seaborn/_oldcore.py:1765: FutureWarning: unique with argument that is not not a Series, Index, ExtensionArray, or np.ndarray is deprecated and will raise in a future version.\n",
      "  order = pd.unique(vector)\n"
     ]
    },
    {
     "data": {
      "image/png": "[encoded data removed]",
      "text/plain": [
       "<Figure size 1600x600 with 2 Axes>"
      ]
     },
     "metadata": {},
     "output_type": "display_data"
    }
   ],
   "source": [
    "plot_common_words(df_merged_lstm, 'title')\n",
    "plot_common_words(df_merged_lstm, 'text')"
   ]
  },
  {
   "cell_type": "code",
   "execution_count": 51,
   "metadata": {
    "execution": {
     "iopub.execute_input": "2025-07-20T04:55:03.271214Z",
     "iopub.status.busy": "2025-07-20T04:55:03.271007Z",
     "iopub.status.idle": "2025-07-20T04:55:05.265693Z",
     "shell.execute_reply": "2025-07-20T04:55:05.265071Z",
     "shell.execute_reply.started": "2025-07-20T04:55:03.271198Z"
    },
    "trusted": true
   },
   "outputs": [
    {
     "name": "stdout",
     "output_type": "stream",
     "text": [
      "Nº total de palavras: 9,275,739\n",
      "Nº palavras únicas: 220,254\n"
     ]
    }
   ],
   "source": [
    "texts = df_merged_lstm['title'] + \" \" + df_merged_lstm['text']\n",
    "all_words = ' '.join(texts).split()\n",
    "word_freq = Counter(all_words)\n",
    "\n",
    "print(f\"Nº total de palavras: {len(all_words):,}\")\n",
    "print(f\"Nº palavras únicas: {len(word_freq):,}\")"
   ]
  },
  {
   "cell_type": "code",
   "execution_count": 52,
   "metadata": {
    "execution": {
     "iopub.execute_input": "2025-07-20T04:55:05.266472Z",
     "iopub.status.busy": "2025-07-20T04:55:05.266269Z",
     "iopub.status.idle": "2025-07-20T04:55:05.300072Z",
     "shell.execute_reply": "2025-07-20T04:55:05.299354Z",
     "shell.execute_reply.started": "2025-07-20T04:55:05.266457Z"
    },
    "trusted": true
   },
   "outputs": [
    {
     "name": "stdout",
     "output_type": "stream",
     "text": [
      "Para cobrir 90%: 10788 palavras únicas\n"
     ]
    }
   ],
   "source": [
    "# Ordena as contagens\n",
    "freqs = np.array(sorted(word_freq.values(), reverse=True))\n",
    "total_words = freqs.sum()\n",
    "\n",
    "# Calcula cobertura cumulativa\n",
    "cumulative = freqs.cumsum() / total_words\n",
    "\n",
    "# Mostra onde passa de 90%\n",
    "idx_90 = np.argmax(cumulative >= 0.9)\n",
    "print(f\"Para cobrir 90%: {idx_90} palavras únicas\")"
   ]
  },
  {
   "cell_type": "code",
   "execution_count": 53,
   "metadata": {
    "execution": {
     "iopub.execute_input": "2025-07-20T04:55:05.301644Z",
     "iopub.status.busy": "2025-07-20T04:55:05.301401Z",
     "iopub.status.idle": "2025-07-20T04:55:05.834138Z",
     "shell.execute_reply": "2025-07-20T04:55:05.833416Z",
     "shell.execute_reply.started": "2025-07-20T04:55:05.301628Z"
    },
    "trusted": true
   },
   "outputs": [
    {
     "name": "stdout",
     "output_type": "stream",
     "text": [
      "count    38576.000000\n",
      "mean       240.453624\n",
      "std        181.645196\n",
      "min          7.000000\n",
      "25%        135.000000\n",
      "50%        218.000000\n",
      "75%        299.000000\n",
      "max       4933.000000\n",
      "dtype: float64\n",
      "90% das amostras têm até: 434.0\n",
      "95% das amostras têm até: 526.0\n",
      "99% das amostras têm até: 766.5\n"
     ]
    }
   ],
   "source": [
    "# Junta 'title' + 'text' ou só 'text'\n",
    "texts = df_merged_lstm['title'] + ' ' + df_merged_lstm['text']\n",
    "\n",
    "# Calcula quantas palavras por amostra\n",
    "lengths = texts.apply(lambda x: len(x.split()))\n",
    "\n",
    "# Estatísticas básicas\n",
    "print(lengths.describe())\n",
    "\n",
    "# Percentis úteis\n",
    "print(\"90% das amostras têm até:\", lengths.quantile(0.90))\n",
    "print(\"95% das amostras têm até:\", lengths.quantile(0.95))\n",
    "print(\"99% das amostras têm até:\", lengths.quantile(0.99))"
   ]
  }
 ],
 "metadata": {
  "kaggle": {
   "accelerator": "nvidiaTeslaT4",
   "dataSources": [
    {
     "datasetId": 6556707,
     "sourceId": 10593566,
     "sourceType": "datasetVersion"
    }
   ],
   "dockerImageVersionId": 31090,
   "isGpuEnabled": true,
   "isInternetEnabled": true,
   "language": "python",
   "sourceType": "notebook"
  },
  "kernelspec": {
   "display_name": "Python 3",
   "language": "python",
   "name": "python3"
  },
  "language_info": {
   "codemirror_mode": {
    "name": "ipython",
    "version": 3
   },
   "file_extension": ".py",
   "mimetype": "text/x-python",
   "name": "python",
   "nbconvert_exporter": "python",
   "pygments_lexer": "ipython3",
   "version": "3.11.13"
  }
 },
 "nbformat": 4,
 "nbformat_minor": 4
}
