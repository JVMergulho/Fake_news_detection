{
 "cells": [
  {
   "cell_type": "markdown",
   "metadata": {},
   "source": [
    "# Detecção de Fake News - BERT"
   ]
  },
  {
   "cell_type": "markdown",
   "metadata": {},
   "source": [
    "O objetivo deste projeto é aplicar técnicas de Deep Learning para desenvolver um modelo robusto capaz de classificar textos jornalísticos em língua inglesa como verdadeiros ou falsos (fake news).\n",
    "\n",
    "Para o treinamento e avaliação do modelo, foi utilizada a base de dados [ISOT Fake News Dataset](https://www.kaggle.com/datasets/emineyetm/fake-news-detection-datasets/data), um recurso amplamente utilizado na comunidade acadêmica e de pesquisa para esta finalidade."
   ]
  },
  {
   "cell_type": "markdown",
   "metadata": {},
   "source": [
    "#### **1. Arquitetura do Modelo e Estratégia de Fine-Tuning**\n",
    "\n",
    "O modelo base utilizado foi o `bert-base-uncased`, uma arquitetura Transformer pré-treinada e amplamente reconhecida por sua eficácia em tarefas de Processamento de Linguagem Natural (PLN). Para adaptar este modelo à tarefa de classificação, foi adicionada uma camada linear no topo, utilizando a classe `AutoModelForSequenceClassification` da biblioteca Hugging Face.\n",
    "\n",
    "A estratégia de fine-tuning adotada consistiu em congelar todos os parâmetros do modelo base, com exceção das camadas finais de pooling. Essas camadas são responsáveis por agregar as informações contextuais da sequência em um único vetor de representação. Dessa forma, o treinamento ajustou apenas os pesos dessa seção final, permitindo uma adaptação eficiente e computacionalmente otimizada para a tarefa específica, sem alterar o conhecimento linguístico geral do BERT.\n",
    "\n",
    "#### **2. Metodologia**\n",
    "\n",
    "**2.1. Preparação dos Dados**\n",
    "\n",
    "Para garantir a compatibilidade com o ecossistema da Hugging Face, os DataFrames contendo os dados de treino, validação e teste foram convertidos para o formato Dataset. Em seguida, foi aplicado um processo de tokenização utilizando o tokenizer específico do `bert-base-uncased`. Esse processo converte os textos em sequências de tokens numéricos, que servem como entrada para o modelo.\n",
    "\n",
    "**2.2. Otimização de Hiperparâmetros**\n",
    "\n",
    "A busca pela configuração ideal de hiperparâmetros foi automatizada com o uso do framework Optuna. O objetivo do processo de otimização foi minimizar a função de perda (loss function) no conjunto de validação. Foram exploradas diferentes combinações para os seguintes hiperparâmetros:\n",
    "\n",
    "* Taxa de aprendizado (Learning rate)\n",
    "\n",
    "* Tamanho do lote (Batch size)\n",
    "\n",
    "* Decaimento de peso (Weight decay)\n",
    "\n",
    "**2.3. Treinamento do Modelo**\n",
    "\n",
    "Utilizando os hiperparâmetros otimizados na etapa anterior, o modelo foi treinado em um processo monitorado pela técnica de parada antecipada (early stopping). Foi definida uma paciência de 4 épocas, o que significa que o treinamento seria interrompido se a métrica de avaliação no conjunto de validação não apresentasse melhora após quatro épocas consecutivas, evitando assim o overfitting.\n",
    "\n",
    "O melhor modelo foi salvo com base no critério de maior acurácia obtida no conjunto de validação durante o treinamento.\n",
    "\n",
    "#### 3. Avaliação de Desempenho\n",
    "\n",
    "A avaliação final foi conduzida no conjunto de teste, que é composto por dados completamente novos e não vistos pelo modelo durante as fases de treinamento e validação. O desempenho foi medido por um conjunto abrangente de métricas:\n",
    "\n",
    "* Acurácia\n",
    "\n",
    "* Precisão\n",
    "\n",
    "* Recall\n",
    "\n",
    "* F1-Score\n",
    "\n",
    "* AUC (Area Under the Curve)\n",
    "\n",
    "Além das métricas quantitativas, foram geradas visualizações para uma análise qualitativa detalhada, incluindo a matriz de confusão e a curva ROC. Essas ferramentas visuais permitem uma análise aprofundada dos padrões de acertos e erros do modelo em cada classe."
   ]
  },
  {
   "cell_type": "markdown",
   "metadata": {},
   "source": [
    "## Importa Bibliotecas"
   ]
  },
  {
   "cell_type": "code",
   "execution_count": null,
   "metadata": {},
   "outputs": [],
   "source": [
    "import pandas as pd\n",
    "import matplotlib.pyplot as plt\n",
    "import seaborn as sns\n",
    "from collections import Counter\n",
    "from scipy.special import softmax\n",
    "import numpy as np\n",
    "import json\n",
    "from IPython.display import display\n",
    "import torch\n",
    "from torch.utils.data import DataLoader\n",
    "\n",
    "from datasets import Dataset\n",
    "from datasets import ClassLabel\n",
    "from transformers import AutoTokenizer, AutoModelForSequenceClassification, TrainingArguments, Trainer, DataCollatorWithPadding, EarlyStoppingCallback\n",
    "import optuna\n",
    "\n",
    "from sklearn.metrics import confusion_matrix, ConfusionMatrixDisplay, accuracy_score, roc_auc_score, precision_score, recall_score, f1_score, roc_curve\n",
    "from sklearn.model_selection import train_test_split"
   ]
  },
  {
   "cell_type": "code",
   "execution_count": 47,
   "metadata": {},
   "outputs": [],
   "source": [
    "df_train = pd.read_csv('bert_train.csv')\n",
    "df_val = pd.read_csv('bert_val.csv')\n",
    "df_test = pd.read_csv('bert_test.csv')\n",
    "\n",
    "device = torch.device(\"cuda\" if torch.cuda.is_available() else \"cpu\")"
   ]
  },
  {
   "cell_type": "code",
   "execution_count": 48,
   "metadata": {},
   "outputs": [
    {
     "name": "stdout",
     "output_type": "stream",
     "text": [
      "(23161, 3)\n",
      "(7721, 3)\n",
      "(7721, 3)\n"
     ]
    }
   ],
   "source": [
    "print(df_train.shape)\n",
    "print(df_test.shape)\n",
    "print(df_val.shape)"
   ]
  },
  {
   "cell_type": "markdown",
   "metadata": {},
   "source": [
    "## Definição do Modelo"
   ]
  },
  {
   "cell_type": "code",
   "execution_count": 49,
   "metadata": {},
   "outputs": [
    {
     "name": "stderr",
     "output_type": "stream",
     "text": [
      "Some weights of BertForSequenceClassification were not initialized from the model checkpoint at google-bert/bert-base-uncased and are newly initialized: ['classifier.bias', 'classifier.weight']\n",
      "You should probably TRAIN this model on a down-stream task to be able to use it for predictions and inference.\n"
     ]
    },
    {
     "data": {
      "text/plain": [
       "BertForSequenceClassification(\n",
       "  (bert): BertModel(\n",
       "    (embeddings): BertEmbeddings(\n",
       "      (word_embeddings): Embedding(30522, 768, padding_idx=0)\n",
       "      (position_embeddings): Embedding(512, 768)\n",
       "      (token_type_embeddings): Embedding(2, 768)\n",
       "      (LayerNorm): LayerNorm((768,), eps=1e-12, elementwise_affine=True)\n",
       "      (dropout): Dropout(p=0.1, inplace=False)\n",
       "    )\n",
       "    (encoder): BertEncoder(\n",
       "      (layer): ModuleList(\n",
       "        (0-11): 12 x BertLayer(\n",
       "          (attention): BertAttention(\n",
       "            (self): BertSdpaSelfAttention(\n",
       "              (query): Linear(in_features=768, out_features=768, bias=True)\n",
       "              (key): Linear(in_features=768, out_features=768, bias=True)\n",
       "              (value): Linear(in_features=768, out_features=768, bias=True)\n",
       "              (dropout): Dropout(p=0.1, inplace=False)\n",
       "            )\n",
       "            (output): BertSelfOutput(\n",
       "              (dense): Linear(in_features=768, out_features=768, bias=True)\n",
       "              (LayerNorm): LayerNorm((768,), eps=1e-12, elementwise_affine=True)\n",
       "              (dropout): Dropout(p=0.1, inplace=False)\n",
       "            )\n",
       "          )\n",
       "          (intermediate): BertIntermediate(\n",
       "            (dense): Linear(in_features=768, out_features=3072, bias=True)\n",
       "            (intermediate_act_fn): GELUActivation()\n",
       "          )\n",
       "          (output): BertOutput(\n",
       "            (dense): Linear(in_features=3072, out_features=768, bias=True)\n",
       "            (LayerNorm): LayerNorm((768,), eps=1e-12, elementwise_affine=True)\n",
       "            (dropout): Dropout(p=0.1, inplace=False)\n",
       "          )\n",
       "        )\n",
       "      )\n",
       "    )\n",
       "    (pooler): BertPooler(\n",
       "      (dense): Linear(in_features=768, out_features=768, bias=True)\n",
       "      (activation): Tanh()\n",
       "    )\n",
       "  )\n",
       "  (dropout): Dropout(p=0.1, inplace=False)\n",
       "  (classifier): Linear(in_features=768, out_features=2, bias=True)\n",
       ")"
      ]
     },
     "execution_count": 49,
     "metadata": {},
     "output_type": "execute_result"
    }
   ],
   "source": [
    "model_path = \"google-bert/bert-base-uncased\"\n",
    "model = AutoModelForSequenceClassification.from_pretrained(model_path, \n",
    "                                                           num_labels=2)\n",
    "model.to(device) # roda na gpu (se disponível)"
   ]
  },
  {
   "cell_type": "code",
   "execution_count": 51,
   "metadata": {},
   "outputs": [],
   "source": [
    "# Congela todos so parâmtros do modelo bas\n",
    "for name, param in model.base_model.named_parameters():\n",
    "    param.requires_grad = False\n",
    "\n",
    "# descongela camadas de pooling do modelo base -> últimas 2 camadas\n",
    "for name, param in model.base_model.named_parameters():\n",
    "    if \"pooler\" in name:\n",
    "        param.requires_grad = True"
   ]
  },
  {
   "cell_type": "markdown",
   "metadata": {},
   "source": [
    "## Preparação dos Dados"
   ]
  },
  {
   "cell_type": "code",
   "execution_count": 52,
   "metadata": {},
   "outputs": [],
   "source": [
    "ds_train = Dataset.from_pandas(df_train.reset_index(drop=True)) \n",
    "ds_val = Dataset.from_pandas(df_val.reset_index(drop=True))\n",
    "ds_test = Dataset.from_pandas(df_test.reset_index(drop=True))"
   ]
  },
  {
   "cell_type": "code",
   "execution_count": 53,
   "metadata": {},
   "outputs": [
    {
     "name": "stdout",
     "output_type": "stream",
     "text": [
      "<class 'transformers.models.bert.tokenization_bert_fast.BertTokenizerFast'>\n",
      "30522\n"
     ]
    }
   ],
   "source": [
    "tokenizer = AutoTokenizer.from_pretrained(model_path)\n",
    "data_collator = DataCollatorWithPadding(tokenizer=tokenizer)\n",
    "\n",
    "print(type(tokenizer))\n",
    "print(tokenizer.vocab_size)"
   ]
  },
  {
   "cell_type": "code",
   "execution_count": 54,
   "metadata": {},
   "outputs": [],
   "source": [
    "# Tokeniza as features textuais\n",
    "# insere title e text na mesma sequência\n",
    "def preprocess_function(examples):\n",
    "    return tokenizer(\n",
    "        examples['title'],\n",
    "        examples['text'],\n",
    "        truncation=True,\n",
    "        padding='max_length',\n",
    "        max_length=500\n",
    "    )"
   ]
  },
  {
   "cell_type": "code",
   "execution_count": 55,
   "metadata": {},
   "outputs": [
    {
     "data": {
      "application/vnd.jupyter.widget-view+json": {
       "model_id": "a2f1e8fbc98341588670dbca118e047b",
       "version_major": 2,
       "version_minor": 0
      },
      "text/plain": [
       "Map:   0%|          | 0/23161 [00:00<?, ? examples/s]"
      ]
     },
     "metadata": {},
     "output_type": "display_data"
    },
    {
     "data": {
      "application/vnd.jupyter.widget-view+json": {
       "model_id": "d1da03a7c78141c9bf979f5626a8e7f5",
       "version_major": 2,
       "version_minor": 0
      },
      "text/plain": [
       "Map:   0%|          | 0/7721 [00:00<?, ? examples/s]"
      ]
     },
     "metadata": {},
     "output_type": "display_data"
    },
    {
     "data": {
      "application/vnd.jupyter.widget-view+json": {
       "model_id": "71f44ae282a048eab1ff5239c4b97aa2",
       "version_major": 2,
       "version_minor": 0
      },
      "text/plain": [
       "Map:   0%|          | 0/7721 [00:00<?, ? examples/s]"
      ]
     },
     "metadata": {},
     "output_type": "display_data"
    }
   ],
   "source": [
    "tokenized_train = ds_train.map(preprocess_function, batched=True)\n",
    "tokenized_test = ds_test.map(preprocess_function, batched=True)\n",
    "tokenized_val = ds_val.map(preprocess_function, batched=True)"
   ]
  },
  {
   "cell_type": "markdown",
   "metadata": {},
   "source": [
    "## Busca por Hiperparâmetros"
   ]
  },
  {
   "cell_type": "code",
   "execution_count": null,
   "metadata": {},
   "outputs": [
    {
     "data": {
      "application/vnd.jupyter.widget-view+json": {
       "model_id": "0cebdbcc1bb44426a3ee7b19c83464e6",
       "version_major": 2,
       "version_minor": 0
      },
      "text/plain": [
       "Casting the dataset:   0%|          | 0/26762 [00:00<?, ? examples/s]"
      ]
     },
     "metadata": {},
     "output_type": "display_data"
    },
    {
     "name": "stdout",
     "output_type": "stream",
     "text": [
      "{'title': Value('string'), 'text': Value('string'), 'labels': ClassLabel(names=['0', '1']), '__index_level_0__': Value('int64'), 'input_ids': List(Value('int32')), 'token_type_ids': List(Value('int8')), 'attention_mask': List(Value('int8'))}\n"
     ]
    }
   ],
   "source": [
    "# Cria um novo dataset com a coluna labels como ClassLabel\n",
    "num_classes = len(set(tokenized_train['labels'])) \n",
    "\n",
    "# Remapeia\n",
    "tokenized_train = tokenized_train.cast_column(\n",
    "    'labels',\n",
    "    ClassLabel(num_classes=num_classes)\n",
    ")\n",
    "\n",
    "print(tokenized_train.features)"
   ]
  },
  {
   "cell_type": "code",
   "execution_count": null,
   "metadata": {},
   "outputs": [],
   "source": [
    "# Passo 1: Pega 2000 dados estratificados\n",
    "small_subset = tokenized_train.train_test_split(\n",
    "    test_size=2000/len(tokenized_train),\n",
    "    stratify_by_column=\"labels\"\n",
    ")['test']  # 'test' é o subconjunto de 1000\n",
    "\n",
    "# Passo 2: Divide os 2000 em train e val (exemplo: 80% train, 20% val)\n",
    "small_train_test = small_subset.train_test_split(\n",
    "    test_size=0.2,\n",
    "    stratify_by_column=\"labels\"\n",
    ")\n",
    "\n",
    "small_train = small_train_test['train']\n",
    "small_val = small_train_test['test']"
   ]
  },
  {
   "cell_type": "code",
   "execution_count": null,
   "metadata": {},
   "outputs": [],
   "source": [
    "def objective(trial: optuna.Trial):\n",
    "    model = AutoModelForSequenceClassification.from_pretrained(model_path).to(device)\n",
    "    \n",
    "    training_args = TrainingArguments(\n",
    "        output_dir=\"ade-test\",\n",
    "        learning_rate=trial.suggest_float(\"learning_rate\", low=4e-5, high=0.01, log=True),\n",
    "        weight_decay=trial.suggest_float(\"weight_decay\", 4e-5, 0.01, log=True),\n",
    "        num_train_epochs=trial.suggest_float(\"num_train_epochs\", low=2, high=3),\n",
    "        per_device_train_batch_size=trial.suggest_categorical(\"per_device_train_batch_size\", [8, 16, 32]),\n",
    "        disable_tqdm=False,\n",
    "    )\n",
    "\n",
    "    trainer = Trainer(\n",
    "        model=model,\n",
    "        args=training_args,\n",
    "        train_dataset=small_train,\n",
    "        eval_dataset=small_val,\n",
    "    )\n",
    "    result = trainer.train()\n",
    "    return result.training_loss"
   ]
  },
  {
   "cell_type": "code",
   "execution_count": null,
   "metadata": {},
   "outputs": [
    {
     "name": "stderr",
     "output_type": "stream",
     "text": [
      "[I 2025-07-19 03:44:58,577] A new study created in memory with name: hyper-parameter-search\n",
      "Some weights of BertForSequenceClassification were not initialized from the model checkpoint at google-bert/bert-base-uncased and are newly initialized: ['classifier.bias', 'classifier.weight']\n",
      "You should probably TRAIN this model on a down-stream task to be able to use it for predictions and inference.\n"
     ]
    },
    {
     "data": {
      "text/html": [
       "\n",
       "    <div>\n",
       "      \n",
       "      <progress value='123' max='123' style='width:300px; height:20px; vertical-align: middle;'></progress>\n",
       "      [123/123 02:32, Epoch 2/3]\n",
       "    </div>\n",
       "    <table border=\"1\" class=\"dataframe\">\n",
       "  <thead>\n",
       " <tr style=\"text-align: left;\">\n",
       "      <th>Step</th>\n",
       "      <th>Training Loss</th>\n",
       "    </tr>\n",
       "  </thead>\n",
       "  <tbody>\n",
       "  </tbody>\n",
       "</table><p>"
      ],
      "text/plain": [
       "<IPython.core.display.HTML object>"
      ]
     },
     "metadata": {},
     "output_type": "display_data"
    },
    {
     "name": "stderr",
     "output_type": "stream",
     "text": [
      "[I 2025-07-19 03:47:33,037] Trial 0 finished with value: 1.0588052641085492 and parameters: {'learning_rate': 0.005924585150647096, 'weight_decay': 0.009625217278328121, 'num_train_epochs': 2.4557409438022626, 'per_device_train_batch_size': 32}. Best is trial 0 with value: 1.0588052641085492.\n",
      "Some weights of BertForSequenceClassification were not initialized from the model checkpoint at google-bert/bert-base-uncased and are newly initialized: ['classifier.bias', 'classifier.weight']\n",
      "You should probably TRAIN this model on a down-stream task to be able to use it for predictions and inference.\n"
     ]
    },
    {
     "data": {
      "text/html": [
       "\n",
       "    <div>\n",
       "      \n",
       "      <progress value='299' max='299' style='width:300px; height:20px; vertical-align: middle;'></progress>\n",
       "      [299/299 03:14, Epoch 2/3]\n",
       "    </div>\n",
       "    <table border=\"1\" class=\"dataframe\">\n",
       "  <thead>\n",
       " <tr style=\"text-align: left;\">\n",
       "      <th>Step</th>\n",
       "      <th>Training Loss</th>\n",
       "    </tr>\n",
       "  </thead>\n",
       "  <tbody>\n",
       "  </tbody>\n",
       "</table><p>"
      ],
      "text/plain": [
       "<IPython.core.display.HTML object>"
      ]
     },
     "metadata": {},
     "output_type": "display_data"
    },
    {
     "name": "stderr",
     "output_type": "stream",
     "text": [
      "[I 2025-07-19 03:50:49,063] Trial 1 finished with value: 0.061010226756832674 and parameters: {'learning_rate': 5.235362905361328e-05, 'weight_decay': 8.731646468355151e-05, 'num_train_epochs': 2.986598253011208, 'per_device_train_batch_size': 16}. Best is trial 1 with value: 0.061010226756832674.\n",
      "Some weights of BertForSequenceClassification were not initialized from the model checkpoint at google-bert/bert-base-uncased and are newly initialized: ['classifier.bias', 'classifier.weight']\n",
      "You should probably TRAIN this model on a down-stream task to be able to use it for predictions and inference.\n"
     ]
    },
    {
     "data": {
      "text/html": [
       "\n",
       "    <div>\n",
       "      \n",
       "      <progress value='404' max='404' style='width:300px; height:20px; vertical-align: middle;'></progress>\n",
       "      [404/404 02:21, Epoch 2/3]\n",
       "    </div>\n",
       "    <table border=\"1\" class=\"dataframe\">\n",
       "  <thead>\n",
       " <tr style=\"text-align: left;\">\n",
       "      <th>Step</th>\n",
       "      <th>Training Loss</th>\n",
       "    </tr>\n",
       "  </thead>\n",
       "  <tbody>\n",
       "  </tbody>\n",
       "</table><p>"
      ],
      "text/plain": [
       "<IPython.core.display.HTML object>"
      ]
     },
     "metadata": {},
     "output_type": "display_data"
    },
    {
     "name": "stderr",
     "output_type": "stream",
     "text": [
      "[I 2025-07-19 03:53:11,422] Trial 2 finished with value: 0.8063383952225789 and parameters: {'learning_rate': 0.0023823038570672116, 'weight_decay': 0.0022738428675507117, 'num_train_epochs': 2.018904812489316, 'per_device_train_batch_size': 8}. Best is trial 1 with value: 0.061010226756832674.\n",
      "Some weights of BertForSequenceClassification were not initialized from the model checkpoint at google-bert/bert-base-uncased and are newly initialized: ['classifier.bias', 'classifier.weight']\n",
      "You should probably TRAIN this model on a down-stream task to be able to use it for predictions and inference.\n"
     ]
    },
    {
     "data": {
      "text/html": [
       "\n",
       "    <div>\n",
       "      \n",
       "      <progress value='447' max='447' style='width:300px; height:20px; vertical-align: middle;'></progress>\n",
       "      [447/447 02:36, Epoch 2/3]\n",
       "    </div>\n",
       "    <table border=\"1\" class=\"dataframe\">\n",
       "  <thead>\n",
       " <tr style=\"text-align: left;\">\n",
       "      <th>Step</th>\n",
       "      <th>Training Loss</th>\n",
       "    </tr>\n",
       "  </thead>\n",
       "  <tbody>\n",
       "  </tbody>\n",
       "</table><p>"
      ],
      "text/plain": [
       "<IPython.core.display.HTML object>"
      ]
     },
     "metadata": {},
     "output_type": "display_data"
    },
    {
     "name": "stderr",
     "output_type": "stream",
     "text": [
      "[I 2025-07-19 03:55:49,417] Trial 3 finished with value: 0.08352709776603136 and parameters: {'learning_rate': 9.066301750493614e-05, 'weight_decay': 0.0009212375869254698, 'num_train_epochs': 2.2339759961334815, 'per_device_train_batch_size': 8}. Best is trial 1 with value: 0.061010226756832674.\n",
      "Some weights of BertForSequenceClassification were not initialized from the model checkpoint at google-bert/bert-base-uncased and are newly initialized: ['classifier.bias', 'classifier.weight']\n",
      "You should probably TRAIN this model on a down-stream task to be able to use it for predictions and inference.\n"
     ]
    },
    {
     "data": {
      "text/html": [
       "\n",
       "    <div>\n",
       "      \n",
       "      <progress value='516' max='516' style='width:300px; height:20px; vertical-align: middle;'></progress>\n",
       "      [516/516 03:04, Epoch 2/3]\n",
       "    </div>\n",
       "    <table border=\"1\" class=\"dataframe\">\n",
       "  <thead>\n",
       " <tr style=\"text-align: left;\">\n",
       "      <th>Step</th>\n",
       "      <th>Training Loss</th>\n",
       "    </tr>\n",
       "  </thead>\n",
       "  <tbody>\n",
       "    <tr>\n",
       "      <td>500</td>\n",
       "      <td>0.737900</td>\n",
       "    </tr>\n",
       "  </tbody>\n",
       "</table><p>"
      ],
      "text/plain": [
       "<IPython.core.display.HTML object>"
      ]
     },
     "metadata": {},
     "output_type": "display_data"
    },
    {
     "name": "stderr",
     "output_type": "stream",
     "text": [
      "[I 2025-07-19 03:58:54,484] Trial 4 finished with value: 0.737354224966478 and parameters: {'learning_rate': 0.0008463799476838453, 'weight_decay': 0.001070664679803911, 'num_train_epochs': 2.578112652310392, 'per_device_train_batch_size': 8}. Best is trial 1 with value: 0.061010226756832674.\n",
      "Some weights of BertForSequenceClassification were not initialized from the model checkpoint at google-bert/bert-base-uncased and are newly initialized: ['classifier.bias', 'classifier.weight']\n",
      "You should probably TRAIN this model on a down-stream task to be able to use it for predictions and inference.\n"
     ]
    },
    {
     "data": {
      "text/html": [
       "\n",
       "    <div>\n",
       "      \n",
       "      <progress value='145' max='145' style='width:300px; height:20px; vertical-align: middle;'></progress>\n",
       "      [145/145 03:00, Epoch 2/3]\n",
       "    </div>\n",
       "    <table border=\"1\" class=\"dataframe\">\n",
       "  <thead>\n",
       " <tr style=\"text-align: left;\">\n",
       "      <th>Step</th>\n",
       "      <th>Training Loss</th>\n",
       "    </tr>\n",
       "  </thead>\n",
       "  <tbody>\n",
       "  </tbody>\n",
       "</table><p>"
      ],
      "text/plain": [
       "<IPython.core.display.HTML object>"
      ]
     },
     "metadata": {},
     "output_type": "display_data"
    },
    {
     "name": "stderr",
     "output_type": "stream",
     "text": [
      "[I 2025-07-19 04:01:57,072] Trial 5 finished with value: 0.06706556780584927 and parameters: {'learning_rate': 0.00011293617304810932, 'weight_decay': 0.005488440292519161, 'num_train_epochs': 2.8991861741184466, 'per_device_train_batch_size': 32}. Best is trial 1 with value: 0.061010226756832674.\n",
      "Some weights of BertForSequenceClassification were not initialized from the model checkpoint at google-bert/bert-base-uncased and are newly initialized: ['classifier.bias', 'classifier.weight']\n",
      "You should probably TRAIN this model on a down-stream task to be able to use it for predictions and inference.\n"
     ]
    },
    {
     "data": {
      "text/html": [
       "\n",
       "    <div>\n",
       "      \n",
       "      <progress value='281' max='281' style='width:300px; height:20px; vertical-align: middle;'></progress>\n",
       "      [281/281 03:01, Epoch 2/3]\n",
       "    </div>\n",
       "    <table border=\"1\" class=\"dataframe\">\n",
       "  <thead>\n",
       " <tr style=\"text-align: left;\">\n",
       "      <th>Step</th>\n",
       "      <th>Training Loss</th>\n",
       "    </tr>\n",
       "  </thead>\n",
       "  <tbody>\n",
       "  </tbody>\n",
       "</table><p>"
      ],
      "text/plain": [
       "<IPython.core.display.HTML object>"
      ]
     },
     "metadata": {},
     "output_type": "display_data"
    },
    {
     "name": "stderr",
     "output_type": "stream",
     "text": [
      "[I 2025-07-19 04:04:59,753] Trial 6 finished with value: 0.7869806255734264 and parameters: {'learning_rate': 0.003111262923619563, 'weight_decay': 0.0054442825382667965, 'num_train_epochs': 2.805517409249431, 'per_device_train_batch_size': 16}. Best is trial 1 with value: 0.061010226756832674.\n",
      "Some weights of BertForSequenceClassification were not initialized from the model checkpoint at google-bert/bert-base-uncased and are newly initialized: ['classifier.bias', 'classifier.weight']\n",
      "You should probably TRAIN this model on a down-stream task to be able to use it for predictions and inference.\n"
     ]
    },
    {
     "data": {
      "text/html": [
       "\n",
       "    <div>\n",
       "      \n",
       "      <progress value='519' max='519' style='width:300px; height:20px; vertical-align: middle;'></progress>\n",
       "      [519/519 03:05, Epoch 2/3]\n",
       "    </div>\n",
       "    <table border=\"1\" class=\"dataframe\">\n",
       "  <thead>\n",
       " <tr style=\"text-align: left;\">\n",
       "      <th>Step</th>\n",
       "      <th>Training Loss</th>\n",
       "    </tr>\n",
       "  </thead>\n",
       "  <tbody>\n",
       "    <tr>\n",
       "      <td>500</td>\n",
       "      <td>0.736900</td>\n",
       "    </tr>\n",
       "  </tbody>\n",
       "</table><p>"
      ],
      "text/plain": [
       "<IPython.core.display.HTML object>"
      ]
     },
     "metadata": {},
     "output_type": "display_data"
    },
    {
     "name": "stderr",
     "output_type": "stream",
     "text": [
      "[I 2025-07-19 04:08:06,235] Trial 7 finished with value: 0.7360859045862922 and parameters: {'learning_rate': 0.0009194031900308774, 'weight_decay': 4.8620825716946436e-05, 'num_train_epochs': 2.592637731197745, 'per_device_train_batch_size': 8}. Best is trial 1 with value: 0.061010226756832674.\n",
      "Some weights of BertForSequenceClassification were not initialized from the model checkpoint at google-bert/bert-base-uncased and are newly initialized: ['classifier.bias', 'classifier.weight']\n",
      "You should probably TRAIN this model on a down-stream task to be able to use it for predictions and inference.\n"
     ]
    },
    {
     "data": {
      "text/html": [
       "\n",
       "    <div>\n",
       "      \n",
       "      <progress value='115' max='115' style='width:300px; height:20px; vertical-align: middle;'></progress>\n",
       "      [115/115 02:22, Epoch 2/3]\n",
       "    </div>\n",
       "    <table border=\"1\" class=\"dataframe\">\n",
       "  <thead>\n",
       " <tr style=\"text-align: left;\">\n",
       "      <th>Step</th>\n",
       "      <th>Training Loss</th>\n",
       "    </tr>\n",
       "  </thead>\n",
       "  <tbody>\n",
       "  </tbody>\n",
       "</table><p>"
      ],
      "text/plain": [
       "<IPython.core.display.HTML object>"
      ]
     },
     "metadata": {},
     "output_type": "display_data"
    },
    {
     "name": "stderr",
     "output_type": "stream",
     "text": [
      "[I 2025-07-19 04:10:30,580] Trial 8 finished with value: 0.3755496812903363 and parameters: {'learning_rate': 0.00028056062995897123, 'weight_decay': 0.0009667366674510668, 'num_train_epochs': 2.295981771462121, 'per_device_train_batch_size': 32}. Best is trial 1 with value: 0.061010226756832674.\n",
      "Some weights of BertForSequenceClassification were not initialized from the model checkpoint at google-bert/bert-base-uncased and are newly initialized: ['classifier.bias', 'classifier.weight']\n",
      "You should probably TRAIN this model on a down-stream task to be able to use it for predictions and inference.\n"
     ]
    },
    {
     "data": {
      "text/html": [
       "\n",
       "    <div>\n",
       "      \n",
       "      <progress value='122' max='122' style='width:300px; height:20px; vertical-align: middle;'></progress>\n",
       "      [122/122 02:31, Epoch 2/3]\n",
       "    </div>\n",
       "    <table border=\"1\" class=\"dataframe\">\n",
       "  <thead>\n",
       " <tr style=\"text-align: left;\">\n",
       "      <th>Step</th>\n",
       "      <th>Training Loss</th>\n",
       "    </tr>\n",
       "  </thead>\n",
       "  <tbody>\n",
       "  </tbody>\n",
       "</table><p>"
      ],
      "text/plain": [
       "<IPython.core.display.HTML object>"
      ]
     },
     "metadata": {},
     "output_type": "display_data"
    },
    {
     "name": "stderr",
     "output_type": "stream",
     "text": [
      "[I 2025-07-19 04:13:04,394] Trial 9 finished with value: 0.12048703334370597 and parameters: {'learning_rate': 0.00014230983043905403, 'weight_decay': 0.001865064573043754, 'num_train_epochs': 2.438362887685032, 'per_device_train_batch_size': 32}. Best is trial 1 with value: 0.061010226756832674.\n"
     ]
    }
   ],
   "source": [
    "study = optuna.create_study(study_name='hyper-parameter-search', direction='minimize') \n",
    "\n",
    "study.optimize(func=objective, n_trials=10)   "
   ]
  },
  {
   "cell_type": "code",
   "execution_count": null,
   "metadata": {},
   "outputs": [
    {
     "name": "stdout",
     "output_type": "stream",
     "text": [
      "0.061010226756832674\n",
      "{'learning_rate': 5.235362905361328e-05, 'weight_decay': 8.731646468355151e-05, 'num_train_epochs': 2.986598253011208, 'per_device_train_batch_size': 16}\n",
      "FrozenTrial(number=1, state=TrialState.COMPLETE, values=[0.061010226756832674], datetime_start=datetime.datetime(2025, 7, 19, 3, 47, 33, 39179), datetime_complete=datetime.datetime(2025, 7, 19, 3, 50, 49, 62985), params={'learning_rate': 5.235362905361328e-05, 'weight_decay': 8.731646468355151e-05, 'num_train_epochs': 2.986598253011208, 'per_device_train_batch_size': 16}, user_attrs={}, system_attrs={}, intermediate_values={}, distributions={'learning_rate': FloatDistribution(high=0.01, log=True, low=4e-05, step=None), 'weight_decay': FloatDistribution(high=0.01, log=True, low=4e-05, step=None), 'num_train_epochs': FloatDistribution(high=3.0, log=False, low=2.0, step=None), 'per_device_train_batch_size': CategoricalDistribution(choices=(8, 16, 32))}, trial_id=1, value=None)\n"
     ]
    }
   ],
   "source": [
    "print(study.best_value) \n",
    "\n",
    "print(study.best_params) \n",
    "\n",
    "print(study.best_trial)"
   ]
  },
  {
   "cell_type": "markdown",
   "metadata": {},
   "source": [
    "## Treinamento"
   ]
  },
  {
   "cell_type": "code",
   "execution_count": null,
   "metadata": {},
   "outputs": [],
   "source": [
    "def compute_metrics(eval_pred):\n",
    "    predictions, labels = eval_pred\n",
    "\n",
    "    # Probabilidades (softmax)\n",
    "    probabilities = softmax(predictions, axis=1)\n",
    "    positive_class_probs = probabilities[:, 1]\n",
    "\n",
    "    # Métricas probabilísticas\n",
    "    auc = np.round(roc_auc_score(labels, positive_class_probs), 3)\n",
    "\n",
    "    # Classe prevista\n",
    "    predicted_classes = np.argmax(probabilities, axis=1)\n",
    "\n",
    "    # Métricas de classe\n",
    "    acc = np.round(accuracy_score(labels, predicted_classes), 3)\n",
    "\n",
    "    return {\n",
    "        \"Accuracy\": acc,\n",
    "        \"AUC\": auc\n",
    "    }"
   ]
  },
  {
   "cell_type": "code",
   "execution_count": null,
   "metadata": {},
   "outputs": [
    {
     "name": "stderr",
     "output_type": "stream",
     "text": [
      "/tmp/ipykernel_50493/2469701123.py:17: FutureWarning: `tokenizer` is deprecated and will be removed in version 5.0.0 for `Trainer.__init__`. Use `processing_class` instead.\n",
      "  best_trainer = Trainer(\n"
     ]
    }
   ],
   "source": [
    "best_hyperparams = study.best_params\n",
    "\n",
    "best_training_args = TrainingArguments(\n",
    "    output_dir=\"./results_best\",\n",
    "    logging_strategy=\"epoch\",\n",
    "    eval_strategy=\"epoch\",\n",
    "    save_strategy=\"epoch\",\n",
    "    load_best_model_at_end=True,\n",
    "    metric_for_best_model=\"Accuracy\",\n",
    "    greater_is_better=True,\n",
    "    learning_rate=best_hyperparams[\"learning_rate\"],\n",
    "    num_train_epochs=20,\n",
    "    per_device_train_batch_size=int(best_hyperparams[\"per_device_train_batch_size\"]),\n",
    "    weight_decay=best_hyperparams[\"weight_decay\"],\n",
    ")\n",
    "\n",
    "best_trainer = Trainer(\n",
    "    model=model,\n",
    "    args=best_training_args,\n",
    "    train_dataset=tokenized_train,   # aqui pode usar o dataset COMPLETO!\n",
    "    eval_dataset=tokenized_val,      # aqui também\n",
    "    tokenizer=tokenizer,\n",
    "    compute_metrics=compute_metrics,\n",
    "    callbacks=[EarlyStoppingCallback(early_stopping_patience=4)]\n",
    ")"
   ]
  },
  {
   "cell_type": "code",
   "execution_count": 36,
   "metadata": {},
   "outputs": [
    {
     "data": {
      "text/html": [
       "\n",
       "    <div>\n",
       "      \n",
       "      <progress value='26768' max='33460' style='width:300px; height:20px; vertical-align: middle;'></progress>\n",
       "      [26768/33460 2:23:14 < 35:48, 3.11 it/s, Epoch 16/20]\n",
       "    </div>\n",
       "    <table border=\"1\" class=\"dataframe\">\n",
       "  <thead>\n",
       " <tr style=\"text-align: left;\">\n",
       "      <th>Epoch</th>\n",
       "      <th>Training Loss</th>\n",
       "      <th>Validation Loss</th>\n",
       "      <th>Accuracy</th>\n",
       "      <th>Auc</th>\n",
       "    </tr>\n",
       "  </thead>\n",
       "  <tbody>\n",
       "    <tr>\n",
       "      <td>1</td>\n",
       "      <td>0.077900</td>\n",
       "      <td>0.062935</td>\n",
       "      <td>0.976000</td>\n",
       "      <td>0.998000</td>\n",
       "    </tr>\n",
       "    <tr>\n",
       "      <td>2</td>\n",
       "      <td>0.071800</td>\n",
       "      <td>0.059537</td>\n",
       "      <td>0.978000</td>\n",
       "      <td>0.998000</td>\n",
       "    </tr>\n",
       "    <tr>\n",
       "      <td>3</td>\n",
       "      <td>0.066100</td>\n",
       "      <td>0.053900</td>\n",
       "      <td>0.980000</td>\n",
       "      <td>0.999000</td>\n",
       "    </tr>\n",
       "    <tr>\n",
       "      <td>4</td>\n",
       "      <td>0.062100</td>\n",
       "      <td>0.053529</td>\n",
       "      <td>0.980000</td>\n",
       "      <td>0.999000</td>\n",
       "    </tr>\n",
       "    <tr>\n",
       "      <td>5</td>\n",
       "      <td>0.063500</td>\n",
       "      <td>0.053247</td>\n",
       "      <td>0.981000</td>\n",
       "      <td>0.999000</td>\n",
       "    </tr>\n",
       "    <tr>\n",
       "      <td>6</td>\n",
       "      <td>0.058600</td>\n",
       "      <td>0.041304</td>\n",
       "      <td>0.984000</td>\n",
       "      <td>0.999000</td>\n",
       "    </tr>\n",
       "    <tr>\n",
       "      <td>7</td>\n",
       "      <td>0.058700</td>\n",
       "      <td>0.044827</td>\n",
       "      <td>0.982000</td>\n",
       "      <td>0.999000</td>\n",
       "    </tr>\n",
       "    <tr>\n",
       "      <td>8</td>\n",
       "      <td>0.058000</td>\n",
       "      <td>0.065084</td>\n",
       "      <td>0.978000</td>\n",
       "      <td>0.999000</td>\n",
       "    </tr>\n",
       "    <tr>\n",
       "      <td>9</td>\n",
       "      <td>0.059200</td>\n",
       "      <td>0.038501</td>\n",
       "      <td>0.985000</td>\n",
       "      <td>0.999000</td>\n",
       "    </tr>\n",
       "    <tr>\n",
       "      <td>10</td>\n",
       "      <td>0.055900</td>\n",
       "      <td>0.042631</td>\n",
       "      <td>0.984000</td>\n",
       "      <td>0.999000</td>\n",
       "    </tr>\n",
       "    <tr>\n",
       "      <td>11</td>\n",
       "      <td>0.056600</td>\n",
       "      <td>0.037352</td>\n",
       "      <td>0.987000</td>\n",
       "      <td>0.999000</td>\n",
       "    </tr>\n",
       "    <tr>\n",
       "      <td>12</td>\n",
       "      <td>0.054400</td>\n",
       "      <td>0.036184</td>\n",
       "      <td>0.987000</td>\n",
       "      <td>0.999000</td>\n",
       "    </tr>\n",
       "    <tr>\n",
       "      <td>13</td>\n",
       "      <td>0.055700</td>\n",
       "      <td>0.036448</td>\n",
       "      <td>0.987000</td>\n",
       "      <td>0.999000</td>\n",
       "    </tr>\n",
       "    <tr>\n",
       "      <td>14</td>\n",
       "      <td>0.055600</td>\n",
       "      <td>0.037659</td>\n",
       "      <td>0.986000</td>\n",
       "      <td>0.999000</td>\n",
       "    </tr>\n",
       "    <tr>\n",
       "      <td>15</td>\n",
       "      <td>0.053300</td>\n",
       "      <td>0.042432</td>\n",
       "      <td>0.984000</td>\n",
       "      <td>0.999000</td>\n",
       "    </tr>\n",
       "    <tr>\n",
       "      <td>16</td>\n",
       "      <td>0.054400</td>\n",
       "      <td>0.035784</td>\n",
       "      <td>0.987000</td>\n",
       "      <td>0.999000</td>\n",
       "    </tr>\n",
       "  </tbody>\n",
       "</table><p>"
      ],
      "text/plain": [
       "<IPython.core.display.HTML object>"
      ]
     },
     "metadata": {},
     "output_type": "display_data"
    },
    {
     "data": {
      "text/plain": [
       "TrainOutput(global_step=26768, training_loss=0.06011299821907221, metrics={'train_runtime': 8594.8336, 'train_samples_per_second': 62.275, 'train_steps_per_second': 3.893, 'total_flos': 1.1002153224288e+17, 'train_loss': 0.06011299821907221, 'epoch': 16.0})"
      ]
     },
     "execution_count": 36,
     "metadata": {},
     "output_type": "execute_result"
    }
   ],
   "source": [
    "best_trainer.train()"
   ]
  },
  {
   "cell_type": "code",
   "execution_count": 68,
   "metadata": {},
   "outputs": [
    {
     "name": "stdout",
     "output_type": "stream",
     "text": [
      "   epoch  grad_norm  learning_rate    loss  step  eval_AUC  eval_Accuracy  \\\n",
      "0    1.0   0.273561       0.000050  0.0779  1673       NaN            NaN   \n",
      "1    1.0        NaN            NaN     NaN  1673     0.998          0.976   \n",
      "2    2.0   0.035561       0.000047  0.0718  3346       NaN            NaN   \n",
      "3    2.0        NaN            NaN     NaN  3346     0.998          0.978   \n",
      "4    3.0   0.015146       0.000045  0.0661  5019       NaN            NaN   \n",
      "\n",
      "   eval_loss  eval_runtime  eval_samples_per_second  eval_steps_per_second  \n",
      "0        NaN           NaN                      NaN                    NaN  \n",
      "1   0.062935      132.2977                   67.446                  8.436  \n",
      "2        NaN           NaN                      NaN                    NaN  \n",
      "3   0.059537      132.3776                   67.406                  8.430  \n",
      "4        NaN           NaN                      NaN                    NaN  \n"
     ]
    }
   ],
   "source": [
    "# Carregar o trainer_state.json\n",
    "with open(\"bert_best_model/trainer_state.json\") as f:\n",
    "    trainer_state = json.load(f)\n",
    "\n",
    "# Extrair log_history e transformar em DataFrame\n",
    "log_history = trainer_state[\"log_history\"]\n",
    "df = pd.DataFrame(log_history)\n",
    "\n",
    "# Ver o que tem\n",
    "print(df.head())"
   ]
  },
  {
   "cell_type": "code",
   "execution_count": 69,
   "metadata": {},
   "outputs": [
    {
     "data": {
      "image/png": "[encoded data removed]",
      "text/plain": [
       "<Figure size 1400x600 with 1 Axes>"
      ]
     },
     "metadata": {},
     "output_type": "display_data"
    }
   ],
   "source": [
    "plt.figure(figsize=(14, 6))\n",
    "\n",
    "# Plot Train Loss\n",
    "plt.plot(df[df[\"loss\"].notnull()][\"step\"], df[df[\"loss\"].notnull()][\"loss\"], label=\"Train Loss\", marker='o')\n",
    "\n",
    "# Plot Eval Loss\n",
    "plt.plot(df[df[\"eval_loss\"].notnull()][\"step\"], df[df[\"eval_loss\"].notnull()][\"eval_loss\"], label=\"Eval Loss\", marker='o')\n",
    "\n",
    "plt.xlabel(\"Step\")\n",
    "plt.ylabel(\"Metric Value\")\n",
    "plt.title(\"Training and Evaluation Metrics\")\n",
    "plt.legend()\n",
    "plt.grid()\n",
    "plt.show()\n"
   ]
  },
  {
   "cell_type": "markdown",
   "metadata": {},
   "source": [
    "## Avaliação do Modelo"
   ]
  },
  {
   "cell_type": "code",
   "execution_count": null,
   "metadata": {},
   "outputs": [],
   "source": [
    "model = AutoModelForSequenceClassification.from_pretrained(\"bert_best_model\")\n",
    "model.to(device)\n",
    "\n",
    "collator = DataCollatorWithPadding(tokenizer=tokenizer, return_tensors=\"pt\")\n",
    "\n",
    "test_dataloader = DataLoader(\n",
    "    tokenized_test.remove_columns(['title', 'text']),  # remove colunas extras\n",
    "    batch_size=8,\n",
    "    collate_fn=collator\n",
    ")\n",
    "\n",
    "all_logits = []\n",
    "all_labels = []\n",
    "\n",
    "with torch.no_grad():\n",
    "    for batch in test_dataloader:\n",
    "        # Mande para GPU\n",
    "        batch = {k: v.to(device) for k, v in batch.items()}\n",
    "        outputs = model(**batch)\n",
    "        logits = outputs.logits\n",
    "\n",
    "        all_logits.append(logits.cpu())\n",
    "        if 'labels' in batch:\n",
    "            all_labels.append(batch['labels'].cpu())\n",
    "\n",
    "logits = torch.cat(all_logits)\n",
    "labels = torch.cat(all_labels) if all_labels else None"
   ]
  },
  {
   "cell_type": "code",
   "execution_count": 65,
   "metadata": {},
   "outputs": [],
   "source": [
    "probabilities = softmax(logits, axis=1)\n",
    "positive_class_probs = probabilities[:, 1]\n",
    "\n",
    "# Métricas probabilísticas\n",
    "auc = np.round(roc_auc_score(labels, positive_class_probs), 3)\n",
    "\n",
    "# Classe prevista\n",
    "predicted_classes = np.argmax(probabilities, axis=1)\n",
    "\n",
    "# Métricas de classe\n",
    "acc = np.round(accuracy_score(labels, predicted_classes), 3)\n",
    "precision = np.round(precision_score(labels, predicted_classes, average=\"binary\"), 3)\n",
    "recall = np.round(recall_score(labels, predicted_classes, average=\"binary\"), 3)\n",
    "f1 = np.round(f1_score(labels, predicted_classes, average=\"binary\"), 3)"
   ]
  },
  {
   "cell_type": "code",
   "execution_count": 66,
   "metadata": {},
   "outputs": [
    {
     "data": {
      "text/html": [
       "<div>\n",
       "<style scoped>\n",
       "    .dataframe tbody tr th:only-of-type {\n",
       "        vertical-align: middle;\n",
       "    }\n",
       "\n",
       "    .dataframe tbody tr th {\n",
       "        vertical-align: top;\n",
       "    }\n",
       "\n",
       "    .dataframe thead th {\n",
       "        text-align: right;\n",
       "    }\n",
       "</style>\n",
       "<table border=\"1\" class=\"dataframe\">\n",
       "  <thead>\n",
       "    <tr style=\"text-align: right;\">\n",
       "      <th></th>\n",
       "      <th>Metric</th>\n",
       "      <th>Value</th>\n",
       "    </tr>\n",
       "  </thead>\n",
       "  <tbody>\n",
       "    <tr>\n",
       "      <th>0</th>\n",
       "      <td>Accuracy</td>\n",
       "      <td>0.991</td>\n",
       "    </tr>\n",
       "    <tr>\n",
       "      <th>1</th>\n",
       "      <td>Precision</td>\n",
       "      <td>0.989</td>\n",
       "    </tr>\n",
       "    <tr>\n",
       "      <th>2</th>\n",
       "      <td>Recall</td>\n",
       "      <td>0.990</td>\n",
       "    </tr>\n",
       "    <tr>\n",
       "      <th>3</th>\n",
       "      <td>F1-Score</td>\n",
       "      <td>0.990</td>\n",
       "    </tr>\n",
       "    <tr>\n",
       "      <th>4</th>\n",
       "      <td>ROC AUC</td>\n",
       "      <td>0.999</td>\n",
       "    </tr>\n",
       "  </tbody>\n",
       "</table>\n",
       "</div>"
      ],
      "text/plain": [
       "      Metric  Value\n",
       "0   Accuracy  0.991\n",
       "1  Precision  0.989\n",
       "2     Recall  0.990\n",
       "3   F1-Score  0.990\n",
       "4    ROC AUC  0.999"
      ]
     },
     "metadata": {},
     "output_type": "display_data"
    }
   ],
   "source": [
    "# Cria DataFrame\n",
    "metrics_df = pd.DataFrame({\n",
    "    \"Metric\": [\"Accuracy\", \"Precision\", \"Recall\", \"F1-Score\", \"ROC AUC\"],\n",
    "    \"Value\": [acc, precision, recall, f1, auc]\n",
    "})\n",
    "\n",
    "# Exibe de forma bonita\n",
    "display(metrics_df)"
   ]
  },
  {
   "cell_type": "code",
   "execution_count": 67,
   "metadata": {},
   "outputs": [
    {
     "data": {
      "image/png": "[encoded data removed]",
      "text/plain": [
       "<Figure size 640x480 with 2 Axes>"
      ]
     },
     "metadata": {},
     "output_type": "display_data"
    }
   ],
   "source": [
    "cm = confusion_matrix(labels, predicted_classes)\n",
    "disp = ConfusionMatrixDisplay(confusion_matrix=cm)\n",
    "\n",
    "disp.plot(cmap=\"Blues\")\n",
    "plt.show()\n"
   ]
  },
  {
   "cell_type": "code",
   "execution_count": null,
   "metadata": {},
   "outputs": [
    {
     "data": {
      "image/png": "[encoded data removed]",
      "text/plain": [
       "<Figure size 800x600 with 1 Axes>"
      ]
     },
     "metadata": {},
     "output_type": "display_data"
    }
   ],
   "source": [
    "# ROC e AUC\n",
    "fpr, tpr, _ = roc_curve(labels, positive_class_probs)\n",
    "roc_auc = auc(fpr, tpr)\n",
    "\n",
    "# Plot\n",
    "plt.figure(figsize=(8, 6))\n",
    "plt.plot(fpr, tpr, label=f'ROC curve (AUC = {roc_auc:.2f})')\n",
    "plt.plot([0, 1], [0, 1], linestyle='--', color='gray')\n",
    "plt.xlabel('False Positive Rate')\n",
    "plt.ylabel('True Positive Rate')\n",
    "plt.title('ROC Curve')\n",
    "plt.legend(loc=\"lower right\")\n",
    "plt.show()"
   ]
  },
  {
   "cell_type": "markdown",
   "metadata": {},
   "source": [
    "## Referências"
   ]
  },
  {
   "cell_type": "markdown",
   "metadata": {},
   "source": [
    "EDA no dataset ISOT: https://www.kaggle.com/code/nguyenhonganh888/fake-news-detection-a#Explore-Text\n",
    "\n",
    "Treinamento do BERT: https://github.com/ShawhinT/YouTube-Blog/blob/main/LLMs/model-compression/0_train-teacher.ipynb\n",
    "\n",
    "Otimização de hiperparâmetros com Optuna: https://medium.com/carbon-consulting/transformer-models-hyperparameter-optimization-with-the-optuna-299e185044a8"
   ]
  }
 ],
 "metadata": {
  "language_info": {
   "name": "python"
  }
 },
 "nbformat": 4,
 "nbformat_minor": 2
}
